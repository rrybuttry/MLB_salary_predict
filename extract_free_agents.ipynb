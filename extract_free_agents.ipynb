{
 "cells": [
  {
   "cell_type": "code",
   "execution_count": 89,
   "id": "8383d415-ce0a-4e54-bdf0-4c58266cc1ea",
   "metadata": {},
   "outputs": [],
   "source": [
    "import numpy as np\n",
    "import pandas as pd\n",
    "import bs4\n",
    "\n",
    "from pybaseball import batting_stats,pitching_stats,playerid_lookup"
   ]
  },
  {
   "cell_type": "code",
   "execution_count": 90,
   "id": "028de379-c55e-4102-9e98-c3d14f89c388",
   "metadata": {},
   "outputs": [
    {
     "name": "stdout",
     "output_type": "stream",
     "text": [
      "2024 MLB Free Agents Tracker Spotrac.htm loaded\n"
     ]
    }
   ],
   "source": [
    "path = \"2024 MLB Free Agents Tracker Spotrac.htm\"\n",
    "\n",
    "with open(path, \"r\") as HTMLFile:\n",
    "    webhtml=HTMLFile.read()\n",
    "print(path, 'loaded')\n",
    "# put it in a soup\n",
    "soup = bs4.BeautifulSoup(webhtml, 'html5lib')"
   ]
  },
  {
   "cell_type": "code",
   "execution_count": 91,
   "id": "0d928d8d-644b-4514-8e40-3bdf046100ff",
   "metadata": {},
   "outputs": [],
   "source": [
    "# get the relevant parts of the webpage\n",
    "free_agents = soup.find_all('td',{'class':\"player sticky left-0\"})"
   ]
  },
  {
   "cell_type": "code",
   "execution_count": 92,
   "id": "a3288c69-03ff-4e8d-93ce-7ad14a9fa9bb",
   "metadata": {},
   "outputs": [
    {
     "name": "stdout",
     "output_type": "stream",
     "text": [
      "221 Free agents\n"
     ]
    }
   ],
   "source": [
    "# extract the names\n",
    "names = [a.text.split() for a in free_agents]\n",
    "print(len(names),\"Free agents\")"
   ]
  },
  {
   "cell_type": "code",
   "execution_count": 93,
   "id": "68af1bf2-7883-4721-b9ff-1d68a4cedbdf",
   "metadata": {},
   "outputs": [
    {
     "name": "stdout",
     "output_type": "stream",
     "text": [
      "No identically matched names found! Returning the 5 most similar names.\n",
      "No identically matched names found! Returning the 5 most similar names.\n",
      "No identically matched names found! Returning the 5 most similar names.\n",
      "No identically matched names found! Returning the 5 most similar names.\n",
      "No identically matched names found! Returning the 5 most similar names.\n",
      "No identically matched names found! Returning the 5 most similar names.\n",
      "No identically matched names found! Returning the 5 most similar names.\n",
      "No identically matched names found! Returning the 5 most similar names.\n",
      "No identically matched names found! Returning the 5 most similar names.\n",
      "No identically matched names found! Returning the 5 most similar names.\n",
      "No identically matched names found! Returning the 5 most similar names.\n",
      "No identically matched names found! Returning the 5 most similar names.\n",
      "No identically matched names found! Returning the 5 most similar names.\n",
      "No identically matched names found! Returning the 5 most similar names.\n",
      "No identically matched names found! Returning the 5 most similar names.\n",
      "No identically matched names found! Returning the 5 most similar names.\n",
      "No identically matched names found! Returning the 5 most similar names.\n",
      "No identically matched names found! Returning the 5 most similar names.\n",
      "No identically matched names found! Returning the 5 most similar names.\n",
      "No identically matched names found! Returning the 5 most similar names.\n",
      "No identically matched names found! Returning the 5 most similar names.\n",
      "No identically matched names found! Returning the 5 most similar names.\n",
      "No identically matched names found! Returning the 5 most similar names.\n",
      "No identically matched names found! Returning the 5 most similar names.\n",
      "No identically matched names found! Returning the 5 most similar names.\n",
      "No identically matched names found! Returning the 5 most similar names.\n",
      "No identically matched names found! Returning the 5 most similar names.\n",
      "No identically matched names found! Returning the 5 most similar names.\n",
      "No identically matched names found! Returning the 5 most similar names.\n",
      "No identically matched names found! Returning the 5 most similar names.\n",
      "No identically matched names found! Returning the 5 most similar names.\n",
      "No identically matched names found! Returning the 5 most similar names.\n",
      "No identically matched names found! Returning the 5 most similar names.\n",
      "No identically matched names found! Returning the 5 most similar names.\n",
      "No identically matched names found! Returning the 5 most similar names.\n",
      "No identically matched names found! Returning the 5 most similar names.\n",
      "No identically matched names found! Returning the 5 most similar names.\n",
      "No identically matched names found! Returning the 5 most similar names.\n",
      "CPU times: user 15.5 s, sys: 0 ns, total: 15.5 s\n",
      "Wall time: 15.5 s\n"
     ]
    }
   ],
   "source": [
    "%%time\n",
    "IDs = []\n",
    "fg_names =[]\n",
    "for name in names:\n",
    "    # lookup fangrphs id\n",
    "    if len(name)==5:\n",
    "        df = playerid_lookup(name[3],name[2],fuzzy=True)\n",
    "    else:\n",
    "        df = playerid_lookup(name[2],name[1],fuzzy=True)\n",
    "    IDs.append(df['key_fangraphs'].values[0])\n",
    "    fg_names.append([df['name_last'].values[0],df['name_first'].values[0]])"
   ]
  },
  {
   "cell_type": "code",
   "execution_count": 94,
   "id": "b682d005-6451-4c87-b95b-807f1e002c0f",
   "metadata": {},
   "outputs": [
    {
     "name": "stdout",
     "output_type": "stream",
     "text": [
      "3 ['báez', 'javier'] ['Baez', 'Javier', 'Baez']\n",
      "5 ['ryu', 'hyun jin'] ['Ryu', 'Hyun-Jin', 'Ryu']\n",
      "8 ['perez', 'marty'] ['Perez', 'Martin', 'Perez']\n",
      "20 ['urías', 'julio'] ['Urias', 'Julio', 'Urias']\n",
      "22 ['hernández', 'teoscar'] ['Hernandez', 'Teoscar', 'Hernandez']\n",
      "47 ['hernández', 'enrique'] ['Hernandez', 'Enrique', 'Hernandez']\n",
      "50 ['martinez', 'j. d.'] ['Martinez', 'J.D.', 'Martinez']\n",
      "67 ['urshela', 'gio'] ['Urshela', 'Giovanny', 'Urshela']\n",
      "77 ['narváez', 'omar'] ['Narvaez', 'Omar', 'Narvaez']\n",
      "79 ['cron', 'c. j.'] ['Cron', 'C.J.', 'Cron']\n",
      "105 ['choi', 'ji man'] ['Choi', 'Ji-Man', 'Choi']\n",
      "106 ['wendle', 'joey'] ['Wendle', 'Joe', 'Wendle']\n",
      "109 ['maldonado', 'martín'] ['Maldonado', 'Martin', 'Maldonado']\n",
      "121 ['leclerc', 'josé'] ['Leclerc', 'Jose', 'Leclerc']\n",
      "122 ['lópez', 'reynaldo'] ['Lopez', 'Reynaldo', 'Lopez']\n",
      "125 ['pagán', 'emilio'] ['Pagan', 'Emilio', 'Pagan']\n",
      "129 ['velasquez', 'vince'] ['Velasquez', 'Vincent', 'Velasquez']\n",
      "130 ['gurriel', 'lourdes'] ['Gurriel', 'Jr.', 'Lourdes', 'Gurriel', 'Jr.']\n",
      "132 ['mondesí', 'adalberto'] ['Mondesi', 'Adalberto', 'Mondesi']\n",
      "139 ['junis', 'jakob'] ['Junis', 'Jake', 'Junis']\n",
      "140 ['jimenez', 'jose'] ['Jimenez', 'Joe', 'Jimenez']\n",
      "143 ['garcía', 'jarlín'] ['Garcia', 'Jarlin', 'Garcia']\n",
      "144 ['perez', 'robert'] ['Perez', 'Roberto', 'Perez']\n",
      "147 ['cisnero', 'josé'] ['Cisnero', 'Jose', 'Cisnero']\n",
      "148 ['edwards', ''] ['Edwards', 'C.J.', 'Edwards']\n",
      "158 ['sánchez', 'gary'] ['Sanchez', 'Gary', 'Sanchez']\n",
      "162 ['gurriel', 'yuli'] ['Gurriel', 'Yulieski', 'Gurriel']\n",
      "166 ['reyes', 'alex'] ['Reyes', 'Alexander', 'Reyes']\n",
      "168 ['león', 'sandy'] ['Leon', 'Sandy', 'Leon']\n",
      "169 ['bradley', 'jackie'] ['Bradley', 'Jr.', 'Jackie', 'Bradley', 'Jr.']\n",
      "174 ['colomé', 'alex'] ['Colome', 'Alex', 'Colome']\n",
      "176 ['claudio', 'alex'] ['Claudio', 'Alexander', 'Claudio']\n",
      "193 ['pena', 'jose'] ['Urena', 'Jose', 'Urena']\n",
      "203 ['martín', 'leonys'] ['Martin', 'Leonys', 'Martin']\n",
      "204 ['hechavarría', 'adeiny'] ['Hechavarria', 'Adeiny', 'Hechavarria']\n",
      "211 ['peraza', 'josé'] ['Peraza', 'Jose', 'Peraza']\n",
      "212 ['elías', 'roenis'] ['Elias', 'Roenis', 'Elias']\n",
      "215 ['lee', 'sang-hoon'] ['Lee', 'Jung-hoo', 'Lee']\n",
      "216 ['tateyama', 'yoshinori'] ['Yamamoto', 'Yoshinobu', 'Yamamoto']\n",
      "219 ['snyder', 'jack'] ['Snodgrass', 'Jack', 'Snodgrass']\n"
     ]
    }
   ],
   "source": [
    "# check we didn't do a bad job\n",
    "for i,(fg,name) in enumerate(zip(fg_names,names)):\n",
    "    if name[2].lower() != fg[0] or name[1].lower() != fg[1] or len(fg[1])<1 or len(fg[0])<1:\n",
    "        print(i,fg,name)"
   ]
  },
  {
   "cell_type": "markdown",
   "id": "bfda0906-ae46-4ef7-96df-43cd4bc7f1ec",
   "metadata": {},
   "source": [
    "We have some mismatches to fix\n",
    "\n",
    "(no luck with yamamoto Yoshinobu or sang-hoon lee so we'll just have to ignore any predictions for them)"
   ]
  },
  {
   "cell_type": "code",
   "execution_count": null,
   "id": "cdd048a2-3c30-4a87-9cb9-250f673a3de6",
   "metadata": {},
   "outputs": [],
   "source": []
  },
  {
   "cell_type": "code",
   "execution_count": 95,
   "id": "024c4feb-4b26-456c-a4d8-d662c21a3557",
   "metadata": {},
   "outputs": [
    {
     "name": "stdout",
     "output_type": "stream",
     "text": [
      "No identically matched names found! Returning the 5 most similar names.\n"
     ]
    },
    {
     "data": {
      "text/html": [
       "<div>\n",
       "<style scoped>\n",
       "    .dataframe tbody tr th:only-of-type {\n",
       "        vertical-align: middle;\n",
       "    }\n",
       "\n",
       "    .dataframe tbody tr th {\n",
       "        vertical-align: top;\n",
       "    }\n",
       "\n",
       "    .dataframe thead th {\n",
       "        text-align: right;\n",
       "    }\n",
       "</style>\n",
       "<table border=\"1\" class=\"dataframe\">\n",
       "  <thead>\n",
       "    <tr style=\"text-align: right;\">\n",
       "      <th></th>\n",
       "      <th>name_last</th>\n",
       "      <th>name_first</th>\n",
       "      <th>key_mlbam</th>\n",
       "      <th>key_retro</th>\n",
       "      <th>key_bbref</th>\n",
       "      <th>key_fangraphs</th>\n",
       "      <th>mlb_played_first</th>\n",
       "      <th>mlb_played_last</th>\n",
       "    </tr>\n",
       "  </thead>\n",
       "  <tbody>\n",
       "    <tr>\n",
       "      <th>0</th>\n",
       "      <td>edwards</td>\n",
       "      <td></td>\n",
       "      <td>113750</td>\n",
       "      <td>edwau101</td>\n",
       "      <td>edwar01</td>\n",
       "      <td>1003682</td>\n",
       "      <td>1875.0</td>\n",
       "      <td>1875.0</td>\n",
       "    </tr>\n",
       "    <tr>\n",
       "      <th>1</th>\n",
       "      <td>edwards</td>\n",
       "      <td></td>\n",
       "      <td>-1</td>\n",
       "      <td></td>\n",
       "      <td>edwar03</td>\n",
       "      <td>-1</td>\n",
       "      <td>1927.0</td>\n",
       "      <td>1927.0</td>\n",
       "    </tr>\n",
       "    <tr>\n",
       "      <th>2</th>\n",
       "      <td>edwards</td>\n",
       "      <td></td>\n",
       "      <td>113750</td>\n",
       "      <td>edwau101</td>\n",
       "      <td>edwar01</td>\n",
       "      <td>1003682</td>\n",
       "      <td>1875.0</td>\n",
       "      <td>1875.0</td>\n",
       "    </tr>\n",
       "    <tr>\n",
       "      <th>3</th>\n",
       "      <td>edwards</td>\n",
       "      <td></td>\n",
       "      <td>-1</td>\n",
       "      <td></td>\n",
       "      <td>edwar03</td>\n",
       "      <td>-1</td>\n",
       "      <td>1927.0</td>\n",
       "      <td>1927.0</td>\n",
       "    </tr>\n",
       "    <tr>\n",
       "      <th>4</th>\n",
       "      <td>edwards</td>\n",
       "      <td>jon</td>\n",
       "      <td>457754</td>\n",
       "      <td>edwaj001</td>\n",
       "      <td>edwarjo02</td>\n",
       "      <td>1483</td>\n",
       "      <td>2014.0</td>\n",
       "      <td>2019.0</td>\n",
       "    </tr>\n",
       "    <tr>\n",
       "      <th>5</th>\n",
       "      <td>edwards</td>\n",
       "      <td>doc</td>\n",
       "      <td>113755</td>\n",
       "      <td>edwad102</td>\n",
       "      <td>edwardo01</td>\n",
       "      <td>1003685</td>\n",
       "      <td>1962.0</td>\n",
       "      <td>1970.0</td>\n",
       "    </tr>\n",
       "    <tr>\n",
       "      <th>6</th>\n",
       "      <td>edwards</td>\n",
       "      <td>carl</td>\n",
       "      <td>605218</td>\n",
       "      <td>edwac001</td>\n",
       "      <td>edwarca01</td>\n",
       "      <td>13607</td>\n",
       "      <td>2015.0</td>\n",
       "      <td>2023.0</td>\n",
       "    </tr>\n",
       "  </tbody>\n",
       "</table>\n",
       "</div>"
      ],
      "text/plain": [
       "  name_last name_first  key_mlbam key_retro  key_bbref  key_fangraphs  \\\n",
       "0   edwards                113750  edwau101    edwar01        1003682   \n",
       "1   edwards                    -1              edwar03             -1   \n",
       "2   edwards                113750  edwau101    edwar01        1003682   \n",
       "3   edwards                    -1              edwar03             -1   \n",
       "4   edwards        jon     457754  edwaj001  edwarjo02           1483   \n",
       "5   edwards        doc     113755  edwad102  edwardo01        1003685   \n",
       "6   edwards       carl     605218  edwac001  edwarca01          13607   \n",
       "\n",
       "  mlb_played_first mlb_played_last  \n",
       "0           1875.0          1875.0  \n",
       "1           1927.0          1927.0  \n",
       "2           1875.0          1875.0  \n",
       "3           1927.0          1927.0  \n",
       "4           2014.0          2019.0  \n",
       "5           1962.0          1970.0  \n",
       "6           2015.0          2023.0  "
      ]
     },
     "execution_count": 95,
     "metadata": {},
     "output_type": "execute_result"
    }
   ],
   "source": [
    "#https://www.mlb.com/player/carl-edwards-jr-605218\n",
    "cj = playerid_lookup('edwards', 'CJ',fuzzy=True)\n",
    "cj"
   ]
  },
  {
   "cell_type": "code",
   "execution_count": 96,
   "id": "4c1067fa-931f-4445-9f95-2bb223ffd908",
   "metadata": {},
   "outputs": [],
   "source": [
    "IDs[148] = cj['key_fangraphs'].values[6]\n",
    "fg_names[148] = [cj['name_last'].values[6],cj['name_first'].values[6]]"
   ]
  },
  {
   "cell_type": "code",
   "execution_count": 97,
   "id": "8064860d-202e-4e51-8e1a-f1bf6a651477",
   "metadata": {},
   "outputs": [
    {
     "name": "stdout",
     "output_type": "stream",
     "text": [
      "No identically matched names found! Returning the 5 most similar names.\n"
     ]
    },
    {
     "data": {
      "text/html": [
       "<div>\n",
       "<style scoped>\n",
       "    .dataframe tbody tr th:only-of-type {\n",
       "        vertical-align: middle;\n",
       "    }\n",
       "\n",
       "    .dataframe tbody tr th {\n",
       "        vertical-align: top;\n",
       "    }\n",
       "\n",
       "    .dataframe thead th {\n",
       "        text-align: right;\n",
       "    }\n",
       "</style>\n",
       "<table border=\"1\" class=\"dataframe\">\n",
       "  <thead>\n",
       "    <tr style=\"text-align: right;\">\n",
       "      <th></th>\n",
       "      <th>name_last</th>\n",
       "      <th>name_first</th>\n",
       "      <th>key_mlbam</th>\n",
       "      <th>key_retro</th>\n",
       "      <th>key_bbref</th>\n",
       "      <th>key_fangraphs</th>\n",
       "      <th>mlb_played_first</th>\n",
       "      <th>mlb_played_last</th>\n",
       "    </tr>\n",
       "  </thead>\n",
       "  <tbody>\n",
       "    <tr>\n",
       "      <th>0</th>\n",
       "      <td>pena</td>\n",
       "      <td>jose</td>\n",
       "      <td>120374</td>\n",
       "      <td>penaj101</td>\n",
       "      <td>penajo01</td>\n",
       "      <td>1010148</td>\n",
       "      <td>1969.0</td>\n",
       "      <td>1972.0</td>\n",
       "    </tr>\n",
       "    <tr>\n",
       "      <th>1</th>\n",
       "      <td>ureña</td>\n",
       "      <td>josé</td>\n",
       "      <td>570632</td>\n",
       "      <td>urenj001</td>\n",
       "      <td>urenajo01</td>\n",
       "      <td>11589</td>\n",
       "      <td>2015.0</td>\n",
       "      <td>2023.0</td>\n",
       "    </tr>\n",
       "    <tr>\n",
       "      <th>2</th>\n",
       "      <td>uribe</td>\n",
       "      <td>jose</td>\n",
       "      <td>123585</td>\n",
       "      <td>uribj001</td>\n",
       "      <td>uribejo01</td>\n",
       "      <td>1013300</td>\n",
       "      <td>1984.0</td>\n",
       "      <td>1993.0</td>\n",
       "    </tr>\n",
       "    <tr>\n",
       "      <th>3</th>\n",
       "      <td>cardenal</td>\n",
       "      <td>jose</td>\n",
       "      <td>111981</td>\n",
       "      <td>cardj101</td>\n",
       "      <td>cardejo02</td>\n",
       "      <td>1001937</td>\n",
       "      <td>1963.0</td>\n",
       "      <td>1980.0</td>\n",
       "    </tr>\n",
       "    <tr>\n",
       "      <th>4</th>\n",
       "      <td>segura</td>\n",
       "      <td>jose</td>\n",
       "      <td>121979</td>\n",
       "      <td>seguj001</td>\n",
       "      <td>segurjo01</td>\n",
       "      <td>1011726</td>\n",
       "      <td>1988.0</td>\n",
       "      <td>1991.0</td>\n",
       "    </tr>\n",
       "  </tbody>\n",
       "</table>\n",
       "</div>"
      ],
      "text/plain": [
       "  name_last name_first  key_mlbam key_retro  key_bbref  key_fangraphs  \\\n",
       "0      pena       jose     120374  penaj101   penajo01        1010148   \n",
       "1     ureña       josé     570632  urenj001  urenajo01          11589   \n",
       "2     uribe       jose     123585  uribj001  uribejo01        1013300   \n",
       "3  cardenal       jose     111981  cardj101  cardejo02        1001937   \n",
       "4    segura       jose     121979  seguj001  segurjo01        1011726   \n",
       "\n",
       "  mlb_played_first mlb_played_last  \n",
       "0           1969.0          1972.0  \n",
       "1           2015.0          2023.0  \n",
       "2           1984.0          1993.0  \n",
       "3           1963.0          1980.0  \n",
       "4           1988.0          1991.0  "
      ]
     },
     "execution_count": 97,
     "metadata": {},
     "output_type": "execute_result"
    }
   ],
   "source": [
    "jose = playerid_lookup('Urena', 'Jose',fuzzy=True)\n",
    "jose"
   ]
  },
  {
   "cell_type": "code",
   "execution_count": 98,
   "id": "0cc30b0c-6c4e-4a0f-8a9a-beac1fad2e06",
   "metadata": {},
   "outputs": [],
   "source": [
    "IDs[193] = jose['key_fangraphs'].values[1]\n",
    "fg_names[193] = [jose['name_last'].values[1],jose['name_first'].values[1]]"
   ]
  },
  {
   "cell_type": "code",
   "execution_count": 99,
   "id": "0d950d5e-f033-4d5c-9a2f-19172975e7f5",
   "metadata": {},
   "outputs": [
    {
     "data": {
      "text/html": [
       "<div>\n",
       "<style scoped>\n",
       "    .dataframe tbody tr th:only-of-type {\n",
       "        vertical-align: middle;\n",
       "    }\n",
       "\n",
       "    .dataframe tbody tr th {\n",
       "        vertical-align: top;\n",
       "    }\n",
       "\n",
       "    .dataframe thead th {\n",
       "        text-align: right;\n",
       "    }\n",
       "</style>\n",
       "<table border=\"1\" class=\"dataframe\">\n",
       "  <thead>\n",
       "    <tr style=\"text-align: right;\">\n",
       "      <th></th>\n",
       "      <th>name_last</th>\n",
       "      <th>name_first</th>\n",
       "      <th>key_mlbam</th>\n",
       "      <th>key_retro</th>\n",
       "      <th>key_bbref</th>\n",
       "      <th>key_fangraphs</th>\n",
       "      <th>mlb_played_first</th>\n",
       "      <th>mlb_played_last</th>\n",
       "    </tr>\n",
       "  </thead>\n",
       "  <tbody>\n",
       "    <tr>\n",
       "      <th>0</th>\n",
       "      <td>jackson</td>\n",
       "      <td>steven</td>\n",
       "      <td>452259</td>\n",
       "      <td>jacks001</td>\n",
       "      <td>jacksst01</td>\n",
       "      <td>7341</td>\n",
       "      <td>2009.0</td>\n",
       "      <td>2010.0</td>\n",
       "    </tr>\n",
       "  </tbody>\n",
       "</table>\n",
       "</div>"
      ],
      "text/plain": [
       "  name_last name_first  key_mlbam key_retro  key_bbref  key_fangraphs  \\\n",
       "0   jackson     steven     452259  jacks001  jacksst01           7341   \n",
       "\n",
       "   mlb_played_first  mlb_played_last  \n",
       "0            2009.0           2010.0  "
      ]
     },
     "execution_count": 99,
     "metadata": {},
     "output_type": "execute_result"
    }
   ],
   "source": [
    "# https://www.milb.com/player/jack-snodgrass-607422\n",
    "jack = playerid_lookup('Jackson','Steven',fuzzy=True)\n",
    "jack"
   ]
  },
  {
   "cell_type": "code",
   "execution_count": 100,
   "id": "3d83f2a5-9272-4187-8e90-bacd74d1694d",
   "metadata": {},
   "outputs": [],
   "source": [
    "IDs[219] = jack['key_fangraphs'].values[0]\n",
    "fg_names[219] = [jack['name_last'].values[0],jack['name_first'].values[0]]"
   ]
  },
  {
   "cell_type": "code",
   "execution_count": 101,
   "id": "c89be0c8-79ff-41cd-913f-16960eeb97a2",
   "metadata": {},
   "outputs": [
    {
     "data": {
      "text/html": [
       "<div>\n",
       "<style scoped>\n",
       "    .dataframe tbody tr th:only-of-type {\n",
       "        vertical-align: middle;\n",
       "    }\n",
       "\n",
       "    .dataframe tbody tr th {\n",
       "        vertical-align: top;\n",
       "    }\n",
       "\n",
       "    .dataframe thead th {\n",
       "        text-align: right;\n",
       "    }\n",
       "</style>\n",
       "<table border=\"1\" class=\"dataframe\">\n",
       "  <thead>\n",
       "    <tr style=\"text-align: right;\">\n",
       "      <th></th>\n",
       "      <th>fgid</th>\n",
       "      <th>LastName</th>\n",
       "      <th>FirstName</th>\n",
       "    </tr>\n",
       "  </thead>\n",
       "  <tbody>\n",
       "    <tr>\n",
       "      <th>0</th>\n",
       "      <td>1744</td>\n",
       "      <td>cabrera</td>\n",
       "      <td>miguel</td>\n",
       "    </tr>\n",
       "    <tr>\n",
       "      <th>1</th>\n",
       "      <td>19755</td>\n",
       "      <td>ohtani</td>\n",
       "      <td>shohei</td>\n",
       "    </tr>\n",
       "    <tr>\n",
       "      <th>2</th>\n",
       "      <td>13431</td>\n",
       "      <td>stroman</td>\n",
       "      <td>marcus</td>\n",
       "    </tr>\n",
       "    <tr>\n",
       "      <th>3</th>\n",
       "      <td>12979</td>\n",
       "      <td>báez</td>\n",
       "      <td>javier</td>\n",
       "    </tr>\n",
       "    <tr>\n",
       "      <th>4</th>\n",
       "      <td>4314</td>\n",
       "      <td>votto</td>\n",
       "      <td>joey</td>\n",
       "    </tr>\n",
       "  </tbody>\n",
       "</table>\n",
       "</div>"
      ],
      "text/plain": [
       "    fgid LastName FirstName\n",
       "0   1744  cabrera    miguel\n",
       "1  19755   ohtani    shohei\n",
       "2  13431  stroman    marcus\n",
       "3  12979     báez    javier\n",
       "4   4314    votto      joey"
      ]
     },
     "execution_count": 101,
     "metadata": {},
     "output_type": "execute_result"
    }
   ],
   "source": [
    "# put it all in a dataframe to save\n",
    "df_free = pd.DataFrame({'fgid':IDs,'LastName':np.array(fg_names)[:,0],'FirstName':np.array(fg_names)[:,1]})\n",
    "df_free.head()"
   ]
  },
  {
   "cell_type": "code",
   "execution_count": 102,
   "id": "2cda5a3f-abfe-4c2c-8aea-196e126933e7",
   "metadata": {},
   "outputs": [],
   "source": [
    "df_free.to_csv('2024_free_agents.csv',index=False)"
   ]
  },
  {
   "cell_type": "code",
   "execution_count": null,
   "id": "fed79745-6ff9-46de-8aee-fe9c53f93695",
   "metadata": {},
   "outputs": [],
   "source": []
  }
 ],
 "metadata": {
  "kernelspec": {
   "display_name": "Python 3 (ipykernel)",
   "language": "python",
   "name": "python3"
  },
  "language_info": {
   "codemirror_mode": {
    "name": "ipython",
    "version": 3
   },
   "file_extension": ".py",
   "mimetype": "text/x-python",
   "name": "python",
   "nbconvert_exporter": "python",
   "pygments_lexer": "ipython3",
   "version": "3.9.13"
  }
 },
 "nbformat": 4,
 "nbformat_minor": 5
}
