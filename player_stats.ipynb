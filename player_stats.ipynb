{
 "cells": [
  {
   "cell_type": "code",
   "execution_count": 1,
   "id": "13754986-757c-4617-a851-b718006627ed",
   "metadata": {},
   "outputs": [],
   "source": [
    "import numpy as np\n",
    "import matplotlib.pyplot as plt\n",
    "import pandas as pd\n",
    "from pybaseball import batting_stats,pitching_stats,playerid_lookup\n",
    "\n",
    "teams = pd.read_csv('mlb_teams.csv')"
   ]
  },
  {
   "cell_type": "code",
   "execution_count": 2,
   "id": "e06598f6-5f3e-4bce-9493-d587da197250",
   "metadata": {},
   "outputs": [
    {
     "name": "stdout",
     "output_type": "stream",
     "text": [
      "Gathering player lookup table. This may take a moment.\n"
     ]
    },
    {
     "data": {
      "text/html": [
       "<div>\n",
       "<style scoped>\n",
       "    .dataframe tbody tr th:only-of-type {\n",
       "        vertical-align: middle;\n",
       "    }\n",
       "\n",
       "    .dataframe tbody tr th {\n",
       "        vertical-align: top;\n",
       "    }\n",
       "\n",
       "    .dataframe thead th {\n",
       "        text-align: right;\n",
       "    }\n",
       "</style>\n",
       "<table border=\"1\" class=\"dataframe\">\n",
       "  <thead>\n",
       "    <tr style=\"text-align: right;\">\n",
       "      <th></th>\n",
       "      <th>name_last</th>\n",
       "      <th>name_first</th>\n",
       "      <th>key_mlbam</th>\n",
       "      <th>key_retro</th>\n",
       "      <th>key_bbref</th>\n",
       "      <th>key_fangraphs</th>\n",
       "      <th>mlb_played_first</th>\n",
       "      <th>mlb_played_last</th>\n",
       "    </tr>\n",
       "  </thead>\n",
       "  <tbody>\n",
       "    <tr>\n",
       "      <th>0</th>\n",
       "      <td>ohtani</td>\n",
       "      <td>shohei</td>\n",
       "      <td>660271</td>\n",
       "      <td>ohtas001</td>\n",
       "      <td>ohtansh01</td>\n",
       "      <td>19755</td>\n",
       "      <td>2018.0</td>\n",
       "      <td>2023.0</td>\n",
       "    </tr>\n",
       "  </tbody>\n",
       "</table>\n",
       "</div>"
      ],
      "text/plain": [
       "  name_last name_first  key_mlbam key_retro  key_bbref  key_fangraphs  \\\n",
       "0    ohtani     shohei     660271  ohtas001  ohtansh01          19755   \n",
       "\n",
       "   mlb_played_first  mlb_played_last  \n",
       "0            2018.0           2023.0  "
      ]
     },
     "execution_count": 2,
     "metadata": {},
     "output_type": "execute_result"
    }
   ],
   "source": [
    "playerid_lookup('ohtani')"
   ]
  },
  {
   "cell_type": "code",
   "execution_count": 27,
   "id": "1a676dc4-dc2e-4973-b774-f6881c8ffe88",
   "metadata": {},
   "outputs": [
    {
     "name": "stdout",
     "output_type": "stream",
     "text": [
      "CPU times: user 31.8 s, sys: 609 ms, total: 32.4 s\n",
      "Wall time: 5min 50s\n"
     ]
    }
   ],
   "source": [
    "%%time\n",
    "# get batting data for years 2015-2022\n",
    "data = batting_stats(2014,2022, qual=1)\n",
    "data.to_csv('stats/fg_batting2014-2022.csv', index=False)\n",
    "\n",
    "# get fangraphs pitching stats for same year range\n",
    "data = pitching_stats(2014,2022, qual=1)\n",
    "data.to_csv('stats/fg_pitching2014-2022.csv', index=False)"
   ]
  },
  {
   "cell_type": "code",
   "execution_count": 2,
   "id": "ca4cf9a4-c464-4598-9dd6-0c9cfd5d8f3c",
   "metadata": {
    "tags": []
   },
   "outputs": [
    {
     "name": "stdout",
     "output_type": "stream",
     "text": [
      "8140\n",
      "6954\n"
     ]
    }
   ],
   "source": [
    "# load fangraphs batting and pitching stats\n",
    "db = pd.read_csv('stats/fg_batting2014-2022.csv')\n",
    "print(len(db))\n",
    "\n",
    "dp = pd.read_csv('stats/fg_pitching2014-2022.csv')\n",
    "print(len(dp))"
   ]
  },
  {
   "cell_type": "code",
   "execution_count": 3,
   "id": "6c51d1e4-5e3d-4722-b3bc-4069085c943d",
   "metadata": {},
   "outputs": [
    {
     "data": {
      "text/plain": [
       "False"
      ]
     },
     "execution_count": 3,
     "metadata": {},
     "output_type": "execute_result"
    }
   ],
   "source": [
    "'1B_y' in db.columns"
   ]
  },
  {
   "cell_type": "code",
   "execution_count": 30,
   "id": "76b68001-cbab-404c-ade1-5caaed2dc5d1",
   "metadata": {},
   "outputs": [
    {
     "data": {
      "text/plain": [
       "(array([ 6153,  5222,  9627, ..., 14366, 14391,    25]),\n",
       " array([9, 9, 9, ..., 1, 1, 1]))"
      ]
     },
     "execution_count": 30,
     "metadata": {},
     "output_type": "execute_result"
    }
   ],
   "source": [
    "values, counts = np.unique(np.array(db['IDfg']), return_counts=True)\n",
    "values[np.argsort(counts)[::-1]], counts[np.argsort(counts)[::-1]]"
   ]
  },
  {
   "cell_type": "code",
   "execution_count": 31,
   "id": "5661e201-6dba-4cae-a01a-6d35b583a44a",
   "metadata": {},
   "outputs": [
    {
     "data": {
      "text/plain": [
       "array([ 1177,  1744,  2136,  2396,  2434,  2900,  2967,  3142,  3473,\n",
       "        3516,  4106,  4314,  4892,  4922,  4940,  4949,  5038,  5222,\n",
       "        5235,  5254,  5273,  5297,  5343,  5361,  5417,  5486,  5491,\n",
       "        5497,  5760,  5827,  5913,  5933,  6012,  6153,  6184,  6887,\n",
       "        7007,  7739,  7802,  7859,  8090,  8202,  8259,  8418,  8709,\n",
       "        8722,  9077,  9218,  9241,  9256,  9368,  9627,  9777,  9847,\n",
       "        9874, 10030, 10047, 10059, 10071, 10155, 10199, 10200, 10243,\n",
       "       10264, 10324, 10472, 10556, 10762, 10847, 10950, 10953, 11038,\n",
       "       11200, 11265, 11339, 11342, 11368, 11477, 11489, 11493, 11579,\n",
       "       11737, 11739, 11899, 12147, 12161, 12179, 12282, 12325, 12371,\n",
       "       12434, 12510, 12532, 12533, 12546, 12552, 12775, 12856, 12859,\n",
       "       12861, 12979, 12984, 13152, 13265, 13329, 13510, 13611, 13757,\n",
       "       14221, 15676])"
      ]
     },
     "execution_count": 31,
     "metadata": {},
     "output_type": "execute_result"
    }
   ],
   "source": [
    "values[counts==9]"
   ]
  },
  {
   "cell_type": "markdown",
   "id": "b8f12298-09f5-4518-9161-ba20796abdab",
   "metadata": {},
   "source": [
    "For every player, we need Team, Age, and Posistion\n",
    "\n",
    "For evaluating batters, we're using SLG, OBP, and wOBA (Maybe also HR, R, RBI?) [offense cols](https://library.fangraphs.com/offense/offensive-statistics-list/)\n",
    "\n",
    "For evaluating pitchers use ERA, FIP, WHIP, Pitches [pitching cols](https://library.fangraphs.com/pitching/complete-list-pitching/)"
   ]
  },
  {
   "cell_type": "code",
   "execution_count": 32,
   "id": "76de51bc-8e8e-43c7-adc9-e3d4c2e28b3b",
   "metadata": {
    "tags": []
   },
   "outputs": [
    {
     "data": {
      "text/plain": [
       "[<matplotlib.lines.Line2D at 0x7faeffc07a90>]"
      ]
     },
     "execution_count": 32,
     "metadata": {},
     "output_type": "execute_result"
    },
    {
     "data": {
      "image/png": "[encoded data removed]",
      "text/plain": [
       "<Figure size 640x480 with 1 Axes>"
      ]
     },
     "metadata": {},
     "output_type": "display_data"
    },
    {
     "data": {
      "image/png": "[encoded data removed]",
      "text/plain": [
       "<Figure size 640x480 with 1 Axes>"
      ]
     },
     "metadata": {},
     "output_type": "display_data"
    }
   ],
   "source": [
    "# look at a single player\n",
    "player = db[db['IDfg']==1177].sort_values('Season')\n",
    "\n",
    "plt.plot(player['Season'], (player['H']+player['BB'])/player['PA'], 'o-')\n",
    "plt.plot(player['Season'], player['OBP'], 'o-')\n",
    "plt.plot(player['Season'], player['wOBA'], 'o-')\n",
    "plt.title(player['Name'].iloc[0])\n",
    "\n",
    "plt.figure()\n",
    "#plt.plot(player['Season'], player['Pitches'], 'o-')\n",
    "#plt.plot(player['Season'], player['Pitches'], 'o-')\n",
    "plt.plot(player['Season'], (player['H']+player['BB'])/player['Pitches'], 'o-')"
   ]
  },
  {
   "cell_type": "code",
   "execution_count": 33,
   "id": "7544aea4-9fee-4f44-8c65-f17eff9bc817",
   "metadata": {},
   "outputs": [
    {
     "data": {
      "text/plain": [
       "(array([11632,  4264,  9111, ..., 20399, 10181, 30115]),\n",
       " array([9, 9, 9, ..., 1, 1, 1]))"
      ]
     },
     "execution_count": 33,
     "metadata": {},
     "output_type": "execute_result"
    }
   ],
   "source": [
    "values_p, counts_p = np.unique(np.array(dp['IDfg']), return_counts=True)\n",
    "values_p[np.argsort(counts_p)[::-1]], counts_p[np.argsort(counts_p)[::-1]]"
   ]
  },
  {
   "cell_type": "code",
   "execution_count": 34,
   "id": "6e6b955d-f97b-4534-aa3a-463ac19ca975",
   "metadata": {},
   "outputs": [
    {
     "data": {
      "text/plain": [
       "array([ 1157,  1247,  1514,  1581,  1943,  2036,  2233,  2429,  2608,\n",
       "        3096,  3137,  3237,  3321,  3548,  4264,  4301,  4676,  4806,\n",
       "        5003,  5114,  5420,  5448,  5524,  5640,  6397,  6483,  6632,\n",
       "        6655,  6661,  6893,  6895,  6902,  6984,  6986,  7005,  7146,\n",
       "        7550,  7593,  7608,  7836,  8110,  8779,  9111,  9434,  9761,\n",
       "        9784,  9817, 10123, 10131, 10133, 10233, 10314, 10343, 10756,\n",
       "       10855, 10954, 11423, 11486, 11632, 11804, 11836, 12049, 12572,\n",
       "       12768, 12863, 12890, 12988, 13125, 13475, 13763, 13781, 14078,\n",
       "       14107, 14814, 15423])"
      ]
     },
     "execution_count": 34,
     "metadata": {},
     "output_type": "execute_result"
    }
   ],
   "source": [
    "values_p[counts_p==9]"
   ]
  },
  {
   "cell_type": "code",
   "execution_count": 35,
   "id": "2d1d083b-79e8-477f-b99a-2d2e51240a02",
   "metadata": {
    "tags": []
   },
   "outputs": [
    {
     "data": {
      "text/plain": [
       "[<matplotlib.lines.Line2D at 0x7faf01dea910>]"
      ]
     },
     "execution_count": 35,
     "metadata": {},
     "output_type": "execute_result"
    },
    {
     "data": {
      "image/png": "[encoded data removed]",
      "text/plain": [
       "<Figure size 640x480 with 1 Axes>"
      ]
     },
     "metadata": {},
     "output_type": "display_data"
    },
    {
     "data": {
      "image/png": "[encoded data removed]",
      "text/plain": [
       "<Figure size 640x480 with 1 Axes>"
      ]
     },
     "metadata": {},
     "output_type": "display_data"
    }
   ],
   "source": [
    "# look at a single player\n",
    "player = dp[dp['IDfg']==1157].sort_values('Season')\n",
    "\n",
    "plt.plot(player['Season'], player['ERA'], 'o-')\n",
    "plt.plot(player['Season'], player['WHIP'], 'o-')\n",
    "plt.plot(player['Season'], player['WAR'], 'o-')\n",
    "plt.title(player['Name'].iloc[0])\n",
    "\n",
    "plt.figure()\n",
    "plt.plot(player['Season'], player['Pitches'], 'o-')"
   ]
  },
  {
   "cell_type": "code",
   "execution_count": 36,
   "id": "024776a9-7113-4a96-b1ea-a851b7c225e5",
   "metadata": {
    "tags": []
   },
   "outputs": [
    {
     "data": {
      "text/html": [
       "<div>\n",
       "<style scoped>\n",
       "    .dataframe tbody tr th:only-of-type {\n",
       "        vertical-align: middle;\n",
       "    }\n",
       "\n",
       "    .dataframe tbody tr th {\n",
       "        vertical-align: top;\n",
       "    }\n",
       "\n",
       "    .dataframe thead th {\n",
       "        text-align: right;\n",
       "    }\n",
       "</style>\n",
       "<table border=\"1\" class=\"dataframe\">\n",
       "  <thead>\n",
       "    <tr style=\"text-align: right;\">\n",
       "      <th></th>\n",
       "      <th>Season</th>\n",
       "      <th>W</th>\n",
       "      <th>L</th>\n",
       "      <th>G</th>\n",
       "      <th>IP</th>\n",
       "      <th>Pitches</th>\n",
       "    </tr>\n",
       "  </thead>\n",
       "  <tbody>\n",
       "    <tr>\n",
       "      <th>1796</th>\n",
       "      <td>2014</td>\n",
       "      <td>3</td>\n",
       "      <td>2</td>\n",
       "      <td>60</td>\n",
       "      <td>60.2</td>\n",
       "      <td>866</td>\n",
       "    </tr>\n",
       "    <tr>\n",
       "      <th>2658</th>\n",
       "      <td>2015</td>\n",
       "      <td>4</td>\n",
       "      <td>2</td>\n",
       "      <td>58</td>\n",
       "      <td>60.1</td>\n",
       "      <td>881</td>\n",
       "    </tr>\n",
       "    <tr>\n",
       "      <th>2017</th>\n",
       "      <td>2016</td>\n",
       "      <td>2</td>\n",
       "      <td>2</td>\n",
       "      <td>33</td>\n",
       "      <td>34.0</td>\n",
       "      <td>483</td>\n",
       "    </tr>\n",
       "    <tr>\n",
       "      <th>1296</th>\n",
       "      <td>2017</td>\n",
       "      <td>3</td>\n",
       "      <td>5</td>\n",
       "      <td>61</td>\n",
       "      <td>58.2</td>\n",
       "      <td>872</td>\n",
       "    </tr>\n",
       "    <tr>\n",
       "      <th>1753</th>\n",
       "      <td>2018</td>\n",
       "      <td>5</td>\n",
       "      <td>4</td>\n",
       "      <td>65</td>\n",
       "      <td>64.0</td>\n",
       "      <td>958</td>\n",
       "    </tr>\n",
       "    <tr>\n",
       "      <th>3163</th>\n",
       "      <td>2019</td>\n",
       "      <td>0</td>\n",
       "      <td>0</td>\n",
       "      <td>5</td>\n",
       "      <td>5.1</td>\n",
       "      <td>72</td>\n",
       "    </tr>\n",
       "    <tr>\n",
       "      <th>2317</th>\n",
       "      <td>2020</td>\n",
       "      <td>0</td>\n",
       "      <td>1</td>\n",
       "      <td>24</td>\n",
       "      <td>24.2</td>\n",
       "      <td>410</td>\n",
       "    </tr>\n",
       "    <tr>\n",
       "      <th>3600</th>\n",
       "      <td>2021</td>\n",
       "      <td>0</td>\n",
       "      <td>0</td>\n",
       "      <td>4</td>\n",
       "      <td>8.0</td>\n",
       "      <td>109</td>\n",
       "    </tr>\n",
       "    <tr>\n",
       "      <th>4361</th>\n",
       "      <td>2022</td>\n",
       "      <td>0</td>\n",
       "      <td>1</td>\n",
       "      <td>18</td>\n",
       "      <td>22.1</td>\n",
       "      <td>349</td>\n",
       "    </tr>\n",
       "  </tbody>\n",
       "</table>\n",
       "</div>"
      ],
      "text/plain": [
       "      Season  W  L   G    IP  Pitches\n",
       "1796    2014  3  2  60  60.2      866\n",
       "2658    2015  4  2  58  60.1      881\n",
       "2017    2016  2  2  33  34.0      483\n",
       "1296    2017  3  5  61  58.2      872\n",
       "1753    2018  5  4  65  64.0      958\n",
       "3163    2019  0  0   5   5.1       72\n",
       "2317    2020  0  1  24  24.2      410\n",
       "3600    2021  0  0   4   8.0      109\n",
       "4361    2022  0  1  18  22.1      349"
      ]
     },
     "execution_count": 36,
     "metadata": {},
     "output_type": "execute_result"
    }
   ],
   "source": [
    "player[['Season','W','L', 'G', 'IP', 'Pitches']] # Wins, Losses, Games, innings pitched"
   ]
  },
  {
   "cell_type": "code",
   "execution_count": 37,
   "id": "8f4e46e8-3d25-4e90-afa7-427f174a07a9",
   "metadata": {},
   "outputs": [
    {
     "data": {
      "text/plain": [
       "['IDfg',\n",
       " 'Season',\n",
       " 'Name',\n",
       " 'Team',\n",
       " 'Age',\n",
       " 'W',\n",
       " 'L',\n",
       " 'WAR',\n",
       " 'ERA',\n",
       " 'G',\n",
       " 'GS',\n",
       " 'CG',\n",
       " 'ShO',\n",
       " 'SV',\n",
       " 'BS',\n",
       " 'IP',\n",
       " 'TBF',\n",
       " 'H',\n",
       " 'R',\n",
       " 'ER',\n",
       " 'HR',\n",
       " 'BB',\n",
       " 'IBB',\n",
       " 'HBP',\n",
       " 'WP',\n",
       " 'BK',\n",
       " 'SO',\n",
       " 'GB',\n",
       " 'FB',\n",
       " 'LD',\n",
       " 'IFFB',\n",
       " 'Balls',\n",
       " 'Strikes',\n",
       " 'Pitches',\n",
       " 'RS',\n",
       " 'IFH',\n",
       " 'BU',\n",
       " 'BUH',\n",
       " 'K/9',\n",
       " 'BB/9',\n",
       " 'K/BB',\n",
       " 'H/9',\n",
       " 'HR/9',\n",
       " 'AVG',\n",
       " 'WHIP',\n",
       " 'BABIP',\n",
       " 'LOB%',\n",
       " 'FIP',\n",
       " 'GB/FB',\n",
       " 'LD%',\n",
       " 'GB%',\n",
       " 'FB%',\n",
       " 'IFFB%',\n",
       " 'HR/FB',\n",
       " 'IFH%',\n",
       " 'BUH%',\n",
       " 'Starting',\n",
       " 'Start-IP',\n",
       " 'Relieving',\n",
       " 'Relief-IP',\n",
       " 'RAR',\n",
       " 'Dollars',\n",
       " 'tERA',\n",
       " 'xFIP',\n",
       " 'WPA',\n",
       " '-WPA',\n",
       " '+WPA',\n",
       " 'RE24',\n",
       " 'REW',\n",
       " 'pLI',\n",
       " 'inLI',\n",
       " 'gmLI',\n",
       " 'exLI',\n",
       " 'Pulls',\n",
       " 'WPA/LI',\n",
       " 'Clutch',\n",
       " 'FB% 2',\n",
       " 'FBv',\n",
       " 'SL%',\n",
       " 'SLv',\n",
       " 'CT%',\n",
       " 'CTv',\n",
       " 'CB%',\n",
       " 'CBv',\n",
       " 'CH%',\n",
       " 'CHv',\n",
       " 'SF%',\n",
       " 'SFv',\n",
       " 'KN%',\n",
       " 'KNv',\n",
       " 'XX%',\n",
       " 'PO%',\n",
       " 'wFB',\n",
       " 'wSL',\n",
       " 'wCT',\n",
       " 'wCB',\n",
       " 'wCH',\n",
       " 'wSF',\n",
       " 'wKN',\n",
       " 'wFB/C',\n",
       " 'wSL/C',\n",
       " 'wCT/C',\n",
       " 'wCB/C',\n",
       " 'wCH/C',\n",
       " 'wSF/C',\n",
       " 'wKN/C',\n",
       " 'O-Swing%',\n",
       " 'Z-Swing%',\n",
       " 'Swing%',\n",
       " 'O-Contact%',\n",
       " 'Z-Contact%',\n",
       " 'Contact%',\n",
       " 'Zone%',\n",
       " 'F-Strike%',\n",
       " 'SwStr%',\n",
       " 'HLD',\n",
       " 'SD',\n",
       " 'MD',\n",
       " 'ERA-',\n",
       " 'FIP-',\n",
       " 'xFIP-',\n",
       " 'K%',\n",
       " 'BB%',\n",
       " 'SIERA',\n",
       " 'RS/9',\n",
       " 'E-F',\n",
       " 'FA% (sc)',\n",
       " 'FT% (sc)',\n",
       " 'FC% (sc)',\n",
       " 'FS% (sc)',\n",
       " 'FO% (sc)',\n",
       " 'SI% (sc)',\n",
       " 'SL% (sc)',\n",
       " 'CU% (sc)',\n",
       " 'KC% (sc)',\n",
       " 'EP% (sc)',\n",
       " 'CH% (sc)',\n",
       " 'SC% (sc)',\n",
       " 'KN% (sc)',\n",
       " 'UN% (sc)',\n",
       " 'vFA (sc)',\n",
       " 'vFT (sc)',\n",
       " 'vFC (sc)',\n",
       " 'vFS (sc)',\n",
       " 'vFO (sc)',\n",
       " 'vSI (sc)',\n",
       " 'vSL (sc)',\n",
       " 'vCU (sc)',\n",
       " 'vKC (sc)',\n",
       " 'vEP (sc)',\n",
       " 'vCH (sc)',\n",
       " 'vSC (sc)',\n",
       " 'vKN (sc)',\n",
       " 'FA-X (sc)',\n",
       " 'FT-X (sc)',\n",
       " 'FC-X (sc)',\n",
       " 'FS-X (sc)',\n",
       " 'FO-X (sc)',\n",
       " 'SI-X (sc)',\n",
       " 'SL-X (sc)',\n",
       " 'CU-X (sc)',\n",
       " 'KC-X (sc)',\n",
       " 'EP-X (sc)',\n",
       " 'CH-X (sc)',\n",
       " 'SC-X (sc)',\n",
       " 'KN-X (sc)',\n",
       " 'FA-Z (sc)',\n",
       " 'FT-Z (sc)',\n",
       " 'FC-Z (sc)',\n",
       " 'FS-Z (sc)',\n",
       " 'FO-Z (sc)',\n",
       " 'SI-Z (sc)',\n",
       " 'SL-Z (sc)',\n",
       " 'CU-Z (sc)',\n",
       " 'KC-Z (sc)',\n",
       " 'EP-Z (sc)',\n",
       " 'CH-Z (sc)',\n",
       " 'SC-Z (sc)',\n",
       " 'KN-Z (sc)',\n",
       " 'wFA (sc)',\n",
       " 'wFT (sc)',\n",
       " 'wFC (sc)',\n",
       " 'wFS (sc)',\n",
       " 'wFO (sc)',\n",
       " 'wSI (sc)',\n",
       " 'wSL (sc)',\n",
       " 'wCU (sc)',\n",
       " 'wKC (sc)',\n",
       " 'wEP (sc)',\n",
       " 'wCH (sc)',\n",
       " 'wSC (sc)',\n",
       " 'wKN (sc)',\n",
       " 'wFA/C (sc)',\n",
       " 'wFT/C (sc)',\n",
       " 'wFC/C (sc)',\n",
       " 'wFS/C (sc)',\n",
       " 'wFO/C (sc)',\n",
       " 'wSI/C (sc)',\n",
       " 'wSL/C (sc)',\n",
       " 'wCU/C (sc)',\n",
       " 'wKC/C (sc)',\n",
       " 'wEP/C (sc)',\n",
       " 'wCH/C (sc)',\n",
       " 'wSC/C (sc)',\n",
       " 'wKN/C (sc)',\n",
       " 'O-Swing% (sc)',\n",
       " 'Z-Swing% (sc)',\n",
       " 'Swing% (sc)',\n",
       " 'O-Contact% (sc)',\n",
       " 'Z-Contact% (sc)',\n",
       " 'Contact% (sc)',\n",
       " 'Zone% (sc)',\n",
       " 'Pace',\n",
       " 'RA9-WAR',\n",
       " 'BIP-Wins',\n",
       " 'LOB-Wins',\n",
       " 'FDP-Wins',\n",
       " 'Age Rng',\n",
       " 'K-BB%',\n",
       " 'Pull%',\n",
       " 'Cent%',\n",
       " 'Oppo%',\n",
       " 'Soft%',\n",
       " 'Med%',\n",
       " 'Hard%',\n",
       " 'kwERA',\n",
       " 'TTO%',\n",
       " 'CH% (pi)',\n",
       " 'CS% (pi)',\n",
       " 'CU% (pi)',\n",
       " 'FA% (pi)',\n",
       " 'FC% (pi)',\n",
       " 'FS% (pi)',\n",
       " 'KN% (pi)',\n",
       " 'SB% (pi)',\n",
       " 'SI% (pi)',\n",
       " 'SL% (pi)',\n",
       " 'XX% (pi)',\n",
       " 'vCH (pi)',\n",
       " 'vCS (pi)',\n",
       " 'vCU (pi)',\n",
       " 'vFA (pi)',\n",
       " 'vFC (pi)',\n",
       " 'vFS (pi)',\n",
       " 'vKN (pi)',\n",
       " 'vSB (pi)',\n",
       " 'vSI (pi)',\n",
       " 'vSL (pi)',\n",
       " 'vXX (pi)',\n",
       " 'CH-X (pi)',\n",
       " 'CS-X (pi)',\n",
       " 'CU-X (pi)',\n",
       " 'FA-X (pi)',\n",
       " 'FC-X (pi)',\n",
       " 'FS-X (pi)',\n",
       " 'KN-X (pi)',\n",
       " 'SB-X (pi)',\n",
       " 'SI-X (pi)',\n",
       " 'SL-X (pi)',\n",
       " 'XX-X (pi)',\n",
       " 'CH-Z (pi)',\n",
       " 'CS-Z (pi)',\n",
       " 'CU-Z (pi)',\n",
       " 'FA-Z (pi)',\n",
       " 'FC-Z (pi)',\n",
       " 'FS-Z (pi)',\n",
       " 'KN-Z (pi)',\n",
       " 'SB-Z (pi)',\n",
       " 'SI-Z (pi)',\n",
       " 'SL-Z (pi)',\n",
       " 'XX-Z (pi)',\n",
       " 'wCH (pi)',\n",
       " 'wCS (pi)',\n",
       " 'wCU (pi)',\n",
       " 'wFA (pi)',\n",
       " 'wFC (pi)',\n",
       " 'wFS (pi)',\n",
       " 'wKN (pi)',\n",
       " 'wSB (pi)',\n",
       " 'wSI (pi)',\n",
       " 'wSL (pi)',\n",
       " 'wXX (pi)',\n",
       " 'wCH/C (pi)',\n",
       " 'wCS/C (pi)',\n",
       " 'wCU/C (pi)',\n",
       " 'wFA/C (pi)',\n",
       " 'wFC/C (pi)',\n",
       " 'wFS/C (pi)',\n",
       " 'wKN/C (pi)',\n",
       " 'wSB/C (pi)',\n",
       " 'wSI/C (pi)',\n",
       " 'wSL/C (pi)',\n",
       " 'wXX/C (pi)',\n",
       " 'O-Swing% (pi)',\n",
       " 'Z-Swing% (pi)',\n",
       " 'Swing% (pi)',\n",
       " 'O-Contact% (pi)',\n",
       " 'Z-Contact% (pi)',\n",
       " 'Contact% (pi)',\n",
       " 'Zone% (pi)',\n",
       " 'Pace (pi)',\n",
       " 'FRM',\n",
       " 'K/9+',\n",
       " 'BB/9+',\n",
       " 'K/BB+',\n",
       " 'H/9+',\n",
       " 'HR/9+',\n",
       " 'AVG+',\n",
       " 'WHIP+',\n",
       " 'BABIP+',\n",
       " 'LOB%+',\n",
       " 'K%+',\n",
       " 'BB%+',\n",
       " 'LD%+',\n",
       " 'GB%+',\n",
       " 'FB%+',\n",
       " 'HR/FB%+',\n",
       " 'Pull%+',\n",
       " 'Cent%+',\n",
       " 'Oppo%+',\n",
       " 'Soft%+',\n",
       " 'Med%+',\n",
       " 'Hard%+',\n",
       " 'EV',\n",
       " 'LA',\n",
       " 'Barrels',\n",
       " 'Barrel%',\n",
       " 'maxEV',\n",
       " 'HardHit',\n",
       " 'HardHit%',\n",
       " 'Events',\n",
       " 'CStr%',\n",
       " 'CSW%',\n",
       " 'xERA',\n",
       " 'botERA',\n",
       " 'botOvr CH',\n",
       " 'botStf CH',\n",
       " 'botCmd CH',\n",
       " 'botOvr CU',\n",
       " 'botStf CU',\n",
       " 'botCmd CU',\n",
       " 'botOvr FA',\n",
       " 'botStf FA',\n",
       " 'botCmd FA',\n",
       " 'botOvr SI',\n",
       " 'botStf SI',\n",
       " 'botCmd SI',\n",
       " 'botOvr SL',\n",
       " 'botStf SL',\n",
       " 'botCmd SL',\n",
       " 'botOvr KC',\n",
       " 'botStf KC',\n",
       " 'botCmd KC',\n",
       " 'botOvr FC',\n",
       " 'botStf FC',\n",
       " 'botCmd FC',\n",
       " 'botOvr FS',\n",
       " 'botStf FS',\n",
       " 'botCmd FS',\n",
       " 'botOvr',\n",
       " 'botStf',\n",
       " 'botCmd',\n",
       " 'botxRV100',\n",
       " 'Stf+ CH',\n",
       " 'Loc+ CH',\n",
       " 'Pit+ CH',\n",
       " 'Stf+ CU',\n",
       " 'Loc+ CU',\n",
       " 'Pit+ CU',\n",
       " 'Stf+ FA',\n",
       " 'Loc+ FA',\n",
       " 'Pit+ FA',\n",
       " 'Stf+ SI',\n",
       " 'Loc+ SI',\n",
       " 'Pit+ SI',\n",
       " 'Stf+ SL',\n",
       " 'Loc+ SL',\n",
       " 'Pit+ SL',\n",
       " 'Stf+ KC',\n",
       " 'Loc+ KC',\n",
       " 'Pit+ KC',\n",
       " 'Stf+ FC',\n",
       " 'Loc+ FC',\n",
       " 'Pit+ FC',\n",
       " 'Stf+ FS',\n",
       " 'Loc+ FS',\n",
       " 'Pit+ FS',\n",
       " 'Stuff+',\n",
       " 'Location+',\n",
       " 'Pitching+',\n",
       " 'Stf+ FO',\n",
       " 'Loc+ FO',\n",
       " 'Pit+ FO']"
      ]
     },
     "execution_count": 37,
     "metadata": {},
     "output_type": "execute_result"
    }
   ],
   "source": [
    "list(player.columns)"
   ]
  },
  {
   "cell_type": "code",
   "execution_count": null,
   "id": "777d33ac-c23d-44d8-8966-c62ad93f8a6d",
   "metadata": {},
   "outputs": [],
   "source": []
  },
  {
   "cell_type": "code",
   "execution_count": null,
   "id": "f446a753-04aa-45f2-a69d-a1386b9771e0",
   "metadata": {},
   "outputs": [],
   "source": []
  },
  {
   "cell_type": "code",
   "execution_count": null,
   "id": "bf2f5abc-3af2-476d-b18e-35966e73028c",
   "metadata": {},
   "outputs": [],
   "source": []
  }
 ],
 "metadata": {
  "kernelspec": {
   "display_name": "Python 3 (ipykernel)",
   "language": "python",
   "name": "python3"
  },
  "language_info": {
   "codemirror_mode": {
    "name": "ipython",
    "version": 3
   },
   "file_extension": ".py",
   "mimetype": "text/x-python",
   "name": "python",
   "nbconvert_exporter": "python",
   "pygments_lexer": "ipython3",
   "version": "3.9.13"
  }
 },
 "nbformat": 4,
 "nbformat_minor": 5
}
