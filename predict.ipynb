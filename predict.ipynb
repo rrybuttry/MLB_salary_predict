{
 "cells": [
  {
   "cell_type": "code",
   "execution_count": 24,
   "id": "eec32b86-5543-483e-81b0-9ae0cc959ad7",
   "metadata": {},
   "outputs": [],
   "source": [
    "import numpy as np\n",
    "import pandas as pd\n",
    "import matplotlib.pyplot as plt\n",
    "import seaborn as sns\n",
    "\n",
    "from sklearn.metrics import mean_squared_error # MSE probably not ideal, but good enough for now\n",
    "from sklearn.linear_model import LinearRegression\n",
    "from sklearn.ensemble import RandomForestRegressor\n",
    "from pybaseball import batting_stats,pitching_stats,playerid_lookup"
   ]
  },
  {
   "cell_type": "code",
   "execution_count": 25,
   "id": "cdff16cf-eaef-4333-8e38-2473627ac178",
   "metadata": {},
   "outputs": [
    {
     "data": {
      "text/plain": [
       "(6770, 331)"
      ]
     },
     "execution_count": 25,
     "metadata": {},
     "output_type": "execute_result"
    }
   ],
   "source": [
    "# train model on all of the data we have\n",
    "# use all the same pca cols that were determined\n",
    "dp = pd.read_csv('stats_and_pay_pitchers_topcols.csv')\n",
    "db = pd.read_csv('stats_and_pay_batters_topcols.csv')\n",
    "\n",
    "train0 = pd.merge(dp,db, on=['fgid','year','pay_adj','log_pay_adj'], how='outer')\n",
    "train0 = train0[train0['pay_adj']>0]\n",
    "\n",
    "\n",
    "side_cols = ['fgid','year','Season','Season_prev','pay','log_pay','adj','pay_adj','log_pay_adj']\n",
    "columns_mask = np.logical_and.reduce([~np.isin(db.columns,side_cols),\n",
    "                                      np.logical_or(db.dtypes==np.float64,db.dtypes==np.float64)])\n",
    "batting_cols = train0.columns[np.isin(train0.columns,db.columns[columns_mask])]\n",
    "\n",
    "columns_mask = np.logical_and.reduce([~np.isin(dp.columns,side_cols),\n",
    "                                      np.logical_or(dp.dtypes==np.float64,dp.dtypes==np.float64)])\n",
    "pitching_cols = train0.columns[np.isin(train0.columns,dp.columns[columns_mask])]\n",
    "\n",
    "data_cols = list(pitching_cols)+list(batting_cols)\n",
    "\n",
    "train = train0.copy().fillna(0)[data_cols].values\n",
    "truths = train0['log_pay_adj'].values\n",
    "\n",
    "train.shape"
   ]
  },
  {
   "cell_type": "code",
   "execution_count": 27,
   "id": "9c71ac8b-1384-4634-9f1c-735a220dd503",
   "metadata": {},
   "outputs": [
    {
     "name": "stdout",
     "output_type": "stream",
     "text": [
      "CPU times: user 20.9 s, sys: 7.47 ms, total: 20.9 s\n",
      "Wall time: 19.5 s\n"
     ]
    },
    {
     "data": {
      "text/plain": [
       "RandomForestRegressor(max_depth=12)"
      ]
     },
     "execution_count": 27,
     "metadata": {},
     "output_type": "execute_result"
    }
   ],
   "source": [
    "%%time\n",
    "\n",
    "## Linear regression model\n",
    "lin = LinearRegression(copy_X=True)\n",
    "lin.fit(train, truths)\n",
    "\n",
    "## random forest\n",
    "regr = RandomForestRegressor(max_depth=12, random_state=None)\n",
    "regr.fit(train, truths)"
   ]
  },
  {
   "cell_type": "raw",
   "id": "fbd4e20e-f7c1-4472-a86c-e8815a166b02",
   "metadata": {},
   "source": [
    "# get stats for the 2023 season\n",
    "\n",
    "# get batting data for years 2015-2022\n",
    "data = batting_stats(2023, qual=1)\n",
    "data.to_csv('stats/fg_batting2023.csv', index=False)\n",
    "\n",
    "# get fangraphs pitching stats for same year range\n",
    "data = pitching_stats(2023, qual=1)\n",
    "data.to_csv('stats/fg_pitching2023.csv', index=False)"
   ]
  },
  {
   "cell_type": "code",
   "execution_count": 62,
   "id": "be7b0246-49a8-4d6e-b19b-cd1364847837",
   "metadata": {},
   "outputs": [],
   "source": [
    "b2023 = pd.read_csv('stats/fg_batting2023.csv')\n",
    "p2023 = pd.read_csv('stats/fg_pitching2023.csv')"
   ]
  },
  {
   "cell_type": "code",
   "execution_count": 84,
   "id": "3ee1bcb8-3e2c-4cf7-862d-0d42faaae964",
   "metadata": {},
   "outputs": [],
   "source": [
    "# load the list of free agents\n",
    "df_free=pd.read_csv('2024_free_agents.csv')"
   ]
  },
  {
   "cell_type": "code",
   "execution_count": 85,
   "id": "60600904-8c52-4148-ab04-d148e01715d0",
   "metadata": {
    "tags": []
   },
   "outputs": [
    {
     "data": {
      "text/plain": [
       "177"
      ]
     },
     "execution_count": 85,
     "metadata": {},
     "output_type": "execute_result"
    }
   ],
   "source": [
    "is_bat = np.isin(df_free['fgid'].values,b2023.loc[:,'IDfg'].values)\n",
    "is_pitch = np.isin(df_free['fgid'].values,p2023.loc[:,'IDfg'].values)\n",
    "\n",
    "np.logical_or(is_bat,is_pitch).sum() # maybe some people don't have 2023 stats"
   ]
  },
  {
   "cell_type": "code",
   "execution_count": 86,
   "id": "3b897845-37b4-4b5e-ac9f-0ac7e746cd5c",
   "metadata": {},
   "outputs": [
    {
     "name": "stdout",
     "output_type": "stream",
     "text": [
      "106 85 191\n"
     ]
    }
   ],
   "source": [
    "# match them \n",
    "# create copies of the pitcher and batter stat dfs\n",
    "db_new = b2023.loc[:, np.logical_and(b2023.columns != 'Season', b2023.columns != 'IDfg')].copy()\n",
    "db_new['Season_prev'] = b2023.loc[:,'Season'].values\n",
    "db_new['fgid'] = b2023.loc[:,'IDfg'].values\n",
    "\n",
    "dp_new = p2023.loc[:, np.logical_and(p2023.columns != 'Season', p2023.columns != 'IDfg')].copy()\n",
    "dp_new['Season_prev'] = p2023.loc[:,'Season'].values\n",
    "dp_new['fgid'] = p2023.loc[:,'IDfg'].values\n",
    "\n",
    "# there are some column names that are in both the batting and pitching tables\n",
    "mapcol_p = {colname:'p_'+colname for colname in list(p2023.columns)[2:] if colname in list(b2023.columns)}\n",
    "mapcol_b = {colname:'b_'+colname for colname in list(b2023.columns)[2:] if colname in list(p2023.columns)}\n",
    "\n",
    "dp_new = dp_new.rename(columns=mapcol_p)\n",
    "db_new = db_new.rename(columns=mapcol_b)\n",
    "\n",
    "# merge\n",
    "pitchers = pd.merge(df_free[is_pitch],dp_new, on=['fgid'], how='left')\n",
    "batters = pd.merge(df_free[is_bat],db_new, on=['fgid'], how='left')\n",
    "print(len(pitchers), len(batters),len(pitchers)+len(batters))"
   ]
  },
  {
   "cell_type": "code",
   "execution_count": 87,
   "id": "87e132cf-8687-471e-8b29-d3927e5ebf27",
   "metadata": {},
   "outputs": [],
   "source": [
    "test0 = pd.merge(pitchers,batters, on=['fgid'], how='outer')\n",
    "test = test0[data_cols].fillna(0).values"
   ]
  },
  {
   "cell_type": "code",
   "execution_count": 88,
   "id": "de5d1ab2-8249-4d21-bbf0-434607effd84",
   "metadata": {},
   "outputs": [
    {
     "data": {
      "text/plain": [
       "(177, 331)"
      ]
     },
     "execution_count": 88,
     "metadata": {},
     "output_type": "execute_result"
    }
   ],
   "source": [
    "test.shape"
   ]
  },
  {
   "cell_type": "code",
   "execution_count": 89,
   "id": "c1b1d657-63c5-436b-9092-358a9cf46f0a",
   "metadata": {},
   "outputs": [],
   "source": [
    "pred0 = lin.predict(test)\n",
    "pred1 = regr.predict(test)"
   ]
  },
  {
   "cell_type": "code",
   "execution_count": 90,
   "id": "ed76dd70-9cb1-49cd-844c-9d4b72b14f35",
   "metadata": {},
   "outputs": [
    {
     "data": {
      "text/plain": [
       "<matplotlib.collections.PathCollection at 0x7fb0b4a3db50>"
      ]
     },
     "execution_count": 90,
     "metadata": {},
     "output_type": "execute_result"
    },
    {
     "data": {
      "image/png": "[encoded data removed]",
      "text/plain": [
       "<Figure size 640x480 with 1 Axes>"
      ]
     },
     "metadata": {},
     "output_type": "display_data"
    }
   ],
   "source": [
    "plt.scatter(pred0, pred1)"
   ]
  },
  {
   "cell_type": "code",
   "execution_count": 91,
   "id": "2e053dc6-f408-4336-87f8-d2412d9c7f55",
   "metadata": {},
   "outputs": [
    {
     "data": {
      "text/plain": [
       "(array([ 8.,  6., 13., 20., 35., 33., 22., 16., 17.,  7.]),\n",
       " array([5.42130153, 5.60063266, 5.77996378, 5.9592949 , 6.13862602,\n",
       "        6.31795714, 6.49728826, 6.67661938, 6.85595051, 7.03528163,\n",
       "        7.21461275]),\n",
       " <BarContainer object of 10 artists>)"
      ]
     },
     "execution_count": 91,
     "metadata": {},
     "output_type": "execute_result"
    },
    {
     "data": {
      "image/png": "[encoded data removed]",
      "text/plain": [
       "<Figure size 640x480 with 1 Axes>"
      ]
     },
     "metadata": {},
     "output_type": "display_data"
    }
   ],
   "source": [
    "plt.hist(pred0)\n",
    "plt.hist(pred1)"
   ]
  },
  {
   "cell_type": "code",
   "execution_count": 99,
   "id": "4aa02f56-e370-48d0-8beb-37b527ab885c",
   "metadata": {},
   "outputs": [
    {
     "data": {
      "text/html": [
       "<div>\n",
       "<style scoped>\n",
       "    .dataframe tbody tr th:only-of-type {\n",
       "        vertical-align: middle;\n",
       "    }\n",
       "\n",
       "    .dataframe tbody tr th {\n",
       "        vertical-align: top;\n",
       "    }\n",
       "\n",
       "    .dataframe thead th {\n",
       "        text-align: right;\n",
       "    }\n",
       "</style>\n",
       "<table border=\"1\" class=\"dataframe\">\n",
       "  <thead>\n",
       "    <tr style=\"text-align: right;\">\n",
       "      <th></th>\n",
       "      <th>fgid</th>\n",
       "      <th>year</th>\n",
       "      <th>pay_adj</th>\n",
       "      <th>log_pay_adj</th>\n",
       "      <th>age_x</th>\n",
       "      <th>p_Age</th>\n",
       "      <th>W</th>\n",
       "      <th>L</th>\n",
       "      <th>p_WAR</th>\n",
       "      <th>ERA</th>\n",
       "      <th>...</th>\n",
       "      <th>b_Soft%+</th>\n",
       "      <th>b_Med%+</th>\n",
       "      <th>b_Hard%+</th>\n",
       "      <th>b_EV</th>\n",
       "      <th>b_LA</th>\n",
       "      <th>b_Barrels</th>\n",
       "      <th>b_maxEV</th>\n",
       "      <th>b_HardHit</th>\n",
       "      <th>b_Events</th>\n",
       "      <th>L-WAR</th>\n",
       "    </tr>\n",
       "  </thead>\n",
       "  <tbody>\n",
       "    <tr>\n",
       "      <th>2874</th>\n",
       "      <td>19755</td>\n",
       "      <td>2021</td>\n",
       "      <td>3399000.000</td>\n",
       "      <td>6.531351</td>\n",
       "      <td>26.0</td>\n",
       "      <td>25.0</td>\n",
       "      <td>0.0</td>\n",
       "      <td>1.0</td>\n",
       "      <td>-0.1</td>\n",
       "      <td>37.80</td>\n",
       "      <td>...</td>\n",
       "      <td>116.0</td>\n",
       "      <td>90.0</td>\n",
       "      <td>107.0</td>\n",
       "      <td>89.1</td>\n",
       "      <td>9.2</td>\n",
       "      <td>11.0</td>\n",
       "      <td>111.9</td>\n",
       "      <td>44.0</td>\n",
       "      <td>103.0</td>\n",
       "      <td>0.0</td>\n",
       "    </tr>\n",
       "    <tr>\n",
       "      <th>3307</th>\n",
       "      <td>19755</td>\n",
       "      <td>2022</td>\n",
       "      <td>5769500.000</td>\n",
       "      <td>6.761138</td>\n",
       "      <td>27.0</td>\n",
       "      <td>26.0</td>\n",
       "      <td>9.0</td>\n",
       "      <td>2.0</td>\n",
       "      <td>3.0</td>\n",
       "      <td>3.18</td>\n",
       "      <td>...</td>\n",
       "      <td>66.0</td>\n",
       "      <td>85.0</td>\n",
       "      <td>140.0</td>\n",
       "      <td>93.6</td>\n",
       "      <td>16.8</td>\n",
       "      <td>78.0</td>\n",
       "      <td>119.0</td>\n",
       "      <td>187.0</td>\n",
       "      <td>350.0</td>\n",
       "      <td>5.1</td>\n",
       "    </tr>\n",
       "    <tr>\n",
       "      <th>4788</th>\n",
       "      <td>19755</td>\n",
       "      <td>2018</td>\n",
       "      <td>666535.000</td>\n",
       "      <td>5.823823</td>\n",
       "      <td>NaN</td>\n",
       "      <td>NaN</td>\n",
       "      <td>NaN</td>\n",
       "      <td>NaN</td>\n",
       "      <td>NaN</td>\n",
       "      <td>NaN</td>\n",
       "      <td>...</td>\n",
       "      <td>NaN</td>\n",
       "      <td>NaN</td>\n",
       "      <td>NaN</td>\n",
       "      <td>NaN</td>\n",
       "      <td>NaN</td>\n",
       "      <td>NaN</td>\n",
       "      <td>NaN</td>\n",
       "      <td>NaN</td>\n",
       "      <td>NaN</td>\n",
       "      <td>NaN</td>\n",
       "    </tr>\n",
       "    <tr>\n",
       "      <th>5282</th>\n",
       "      <td>19755</td>\n",
       "      <td>2019</td>\n",
       "      <td>780650.000</td>\n",
       "      <td>5.892456</td>\n",
       "      <td>NaN</td>\n",
       "      <td>NaN</td>\n",
       "      <td>NaN</td>\n",
       "      <td>NaN</td>\n",
       "      <td>NaN</td>\n",
       "      <td>NaN</td>\n",
       "      <td>...</td>\n",
       "      <td>58.0</td>\n",
       "      <td>99.0</td>\n",
       "      <td>122.0</td>\n",
       "      <td>92.9</td>\n",
       "      <td>12.3</td>\n",
       "      <td>32.0</td>\n",
       "      <td>113.9</td>\n",
       "      <td>113.0</td>\n",
       "      <td>226.0</td>\n",
       "      <td>2.7</td>\n",
       "    </tr>\n",
       "    <tr>\n",
       "      <th>5752</th>\n",
       "      <td>19755</td>\n",
       "      <td>2020</td>\n",
       "      <td>307481.174</td>\n",
       "      <td>5.487819</td>\n",
       "      <td>NaN</td>\n",
       "      <td>NaN</td>\n",
       "      <td>NaN</td>\n",
       "      <td>NaN</td>\n",
       "      <td>NaN</td>\n",
       "      <td>NaN</td>\n",
       "      <td>...</td>\n",
       "      <td>52.0</td>\n",
       "      <td>92.0</td>\n",
       "      <td>131.0</td>\n",
       "      <td>92.8</td>\n",
       "      <td>6.7</td>\n",
       "      <td>32.0</td>\n",
       "      <td>115.1</td>\n",
       "      <td>131.0</td>\n",
       "      <td>280.0</td>\n",
       "      <td>1.7</td>\n",
       "    </tr>\n",
       "  </tbody>\n",
       "</table>\n",
       "<p>5 rows × 337 columns</p>\n",
       "</div>"
      ],
      "text/plain": [
       "       fgid  year      pay_adj  log_pay_adj  age_x  p_Age    W    L  p_WAR  \\\n",
       "2874  19755  2021  3399000.000     6.531351   26.0   25.0  0.0  1.0   -0.1   \n",
       "3307  19755  2022  5769500.000     6.761138   27.0   26.0  9.0  2.0    3.0   \n",
       "4788  19755  2018   666535.000     5.823823    NaN    NaN  NaN  NaN    NaN   \n",
       "5282  19755  2019   780650.000     5.892456    NaN    NaN  NaN  NaN    NaN   \n",
       "5752  19755  2020   307481.174     5.487819    NaN    NaN  NaN  NaN    NaN   \n",
       "\n",
       "        ERA  ...  b_Soft%+  b_Med%+  b_Hard%+  b_EV  b_LA  b_Barrels  b_maxEV  \\\n",
       "2874  37.80  ...     116.0     90.0     107.0  89.1   9.2       11.0    111.9   \n",
       "3307   3.18  ...      66.0     85.0     140.0  93.6  16.8       78.0    119.0   \n",
       "4788    NaN  ...       NaN      NaN       NaN   NaN   NaN        NaN      NaN   \n",
       "5282    NaN  ...      58.0     99.0     122.0  92.9  12.3       32.0    113.9   \n",
       "5752    NaN  ...      52.0     92.0     131.0  92.8   6.7       32.0    115.1   \n",
       "\n",
       "      b_HardHit  b_Events  L-WAR  \n",
       "2874       44.0     103.0    0.0  \n",
       "3307      187.0     350.0    5.1  \n",
       "4788        NaN       NaN    NaN  \n",
       "5282      113.0     226.0    2.7  \n",
       "5752      131.0     280.0    1.7  \n",
       "\n",
       "[5 rows x 337 columns]"
      ]
     },
     "execution_count": 99,
     "metadata": {},
     "output_type": "execute_result"
    }
   ],
   "source": [
    "train0[train0['fgid']==19755]"
   ]
  },
  {
   "cell_type": "code",
   "execution_count": 100,
   "id": "e0cb378f-6923-4e66-9d04-0559a4650385",
   "metadata": {},
   "outputs": [
    {
     "name": "stdout",
     "output_type": "stream",
     "text": [
      "0 1744 miguel cabrera 690203546.21\n",
      "1 19755 shohei ohtani 5880676.68\n",
      "2 13431 marcus stroman 4936615.07\n",
      "3 12979 javier báez 11075388.64\n",
      "4 4314 joey votto 12621351.35\n",
      "5 14444 hyun jin ryu 1162339.06\n",
      "6 2036 clayton kershaw 12235667.56\n",
      "7 11899 joc pederson 16259220.32\n",
      "8 2520 lance lynn 6827232.36\n",
      "9 11368 yasmani grandal 3366097.35\n",
      "10 16376 michael conforto 9483601.35\n",
      "11 3548 liam hendriks 9620388.64\n",
      "12 2233 adam wainwright 7201639.74\n",
      "13 15998 cody bellinger 2325926.89\n",
      "14 9368 evan longoria 1461606.44\n",
      "15 5343 brandon crawford 6409558.40\n",
      "16 13164 eduardo rodriguez 1597520.01\n",
      "17 14765 julio urías 4226002.80\n",
      "18 14212 josh hader 4778946.50\n",
      "19 13066 teoscar hernández 19095937.03\n",
      "20 12049 kyle hendricks 7995418.90\n",
      "21 13301 max muncy 7772726.05\n",
      "22 8048 will smith 17619710.53\n",
      "23 11445 mark canha 1539374.09\n",
      "24 13273 ross stripling 1056057.52\n",
      "25 15873 sean manaea 6698400.69\n",
      "26 15423 andrew heaney 11231942.76\n",
      "27 16505 matt chapman 29317960.88\n",
      "28 13781 alex wood 9250925.13\n",
      "29 4106 michael brantley 16074884.22\n",
      "30 12808 mike clevinger 26160297.87\n",
      "31 14221 jorge soler 5554764.57\n",
      "32 6632 carlos carrasco 960795.67\n",
      "33 16149 aaron nola 3980522.99\n",
      "34 14128 joey gallo 4601656.17\n",
      "35 5235 justin turner 3612441.86\n",
      "36 15474 lucas giolito 3057543.08\n",
      "37 10243 randal grichuk 2187422.41\n",
      "38 12768 sonny gray 1464901.36\n",
      "39 13543 blake snell 5616368.85\n",
      "40 15890 luis severino 3893769.24\n",
      "41 2429 corey kluber 362920.71\n",
      "42 16511 jordan montgomery 825247.07\n",
      "43 10472 enrique hernández 11776317.87\n",
      "44 10123 kyle gibson 1759820.80\n",
      "45 8241 david robertson 1392509.63\n",
      "46 6184 j. d. martinez 6920324.92\n",
      "47 6655 craig kimbrel 4314960.06\n",
      "48 6562 alex cobb 3515094.73\n",
      "49 6153 eduardo escobar 611886.31\n",
      "50 11828 james paxton 2316522.62\n",
      "51 12863 matt barnes 3149317.52\n",
      "52 10264 brandon belt 2514610.87\n",
      "53 12155 eddie rosario 3413643.69\n",
      "54 11038 kevin kiermaier 13506469.59\n",
      "55 12730 nick martinez 1893075.55\n",
      "56 1943 zack greinke 10933353.30\n",
      "57 6893 johnny cueto 4198575.99\n",
      "58 14843 michael lorenzen 1164571.38\n",
      "59 11804 hector neris 4375988.20\n",
      "60 10343 aaron loup 6773112.81\n",
      "61 10681 gio urshela 15387058.21\n",
      "62 15223 adam frazier 734313.66\n",
      "63 4806 rich hill 1722118.54\n",
      "64 15518 amed rosario 1001343.06\n",
      "65 1890 matt moore 1530685.06\n",
      "66 14309 frankie montas 2239802.12\n",
      "67 16358 tyler mahle 1752285.04\n",
      "68 12447 seth lugo 966854.27\n",
      "69 13338 omar narváez 8397110.26\n",
      "70 13590 jesse winker 2066583.85\n",
      "71 12546 c. j. cron 1611557.41\n",
      "72 12144 max kepler 2077544.37\n",
      "73 10815 jurickson profar 1355359.84\n",
      "74 10950 adam duvall 1166554.87\n",
      "75 6398 trevor may 1455002.03\n",
      "76 7146 daniel hudson 1125479.83\n",
      "77 2396 carlos santana 2068803.56\n",
      "78 14078 michael wacha 1202953.29\n",
      "79 2136 david peralta 1122098.11\n",
      "80 9627 yan gomes 1366484.71\n",
      "81 12988 andrew chafin 2023096.13\n",
      "82 2967 tommy pham 1604341.66\n",
      "83 16512 isiah kiner-falefa 3456715.38\n",
      "84 8090 matt carpenter 1315048.12\n",
      "85 15734 brad keller 8824178.13\n",
      "86 17479 jack flaherty 6621525.95\n",
      "87 18030 harrison bader 93093604.34\n",
      "88 13152 jorge polanco 852364.92\n",
      "89 7531 collin mchugh 3121649.97\n",
      "90 13621 jeimer candelario 1333581.01\n",
      "91 13435 pierce johnson 295184.27\n",
      "92 12976 austin hedges 1411974.44\n",
      "93 9847 andrew mccutchen 561022.87\n",
      "94 12775 brad miller 697798.67\n",
      "95 6986 ian kennedy 2330519.90\n",
      "96 5452 ji man choi 1875205.29\n",
      "97 13853 joey wendle 879214.60\n",
      "98 8779 wade miley 2024085.20\n",
      "99 11489 michael taylor 313221.45\n",
      "100 6887 martín maldonado 1751480.17\n",
      "101 15552 chad green 2483142.85\n",
      "102 15279 garrett cooper 1970457.79\n",
      "103 15172 tim anderson 986070404.42\n",
      "104 9073 kirby yates 2954304.06\n",
      "105 11281 whit merrifield 1430444.12\n",
      "106 13218 michael fulmer 11309120.64\n",
      "107 15161 mitch garver 6499616.55\n",
      "108 10233 aroldis chapman 13715609.43\n",
      "109 14894 tony kemp 8656731.36\n",
      "110 14524 josé leclerc 6925486.43\n",
      "111 16400 reynaldo lópez 7094992.70\n",
      "112 15947 ryne stanek 7132916.87\n",
      "113 14771 emilio pagán 5826362.11\n",
      "114 14295 wandy peralta 10598844.88\n",
      "115 31839 shintaro fujinami 17569653.71\n",
      "116 12510 curt casali 6753551.82\n",
      "117 11189 vince velasquez 15312423.25\n",
      "118 19238 lourdes gurriel 6958794.53\n",
      "119 18498 kenta maeda 17603355.11\n",
      "120 13942 brent suter 1377168.06\n",
      "121 12434 kevin pillar 20592085.71\n",
      "122 8709 elvis andrus 6817281.78\n",
      "123 10133 brad boxberger 4363816.85\n",
      "124 13761 chris stratton 12101148.36\n",
      "125 14968 victor caratini 13003431.22\n",
      "126 13619 jakob junis 4336022.12\n",
      "127 13424 drew verhagen 6596506.91\n",
      "128 18064 phil maton 2628397.14\n",
      "129 12532 kolten wong 3344602.87\n",
      "130 12777 john brebbia 2385039.21\n",
      "131 6399 josé cisnero 1591564.28\n",
      "132 13607 carl edwards 1289044.25\n",
      "133 9111 brad hand 5139529.15\n",
      "134 8623 donovan solano 7280665.00\n",
      "135 5254 robbie grossman 5704751.93\n",
      "136 19618 jordan hicks 4721177.73\n",
      "137 13594 robert stephenson 25606019.42\n",
      "138 14814 buck farmer 6402212.43\n",
      "139 10197 shelby miller 8613146.78\n",
      "140 11442 gary sánchez 11317838.80\n",
      "141 6797 julio teheran 6039395.97\n",
      "142 13768 travis jankowski 2827663.44\n",
      "143 19198 yuli gurriel 3589383.80\n",
      "144 5448 jesse chavez 9185110.93\n",
      "145 13355 luke maile 19988467.79\n",
      "146 5273 sandy león 2304304.33\n",
      "147 12984 jackie bradley 2755197.66\n",
      "148 15264 keynan middleton 2488466.30\n",
      "149 7608 tommy milone 5932675.24\n",
      "150 13763 dominic leone 8737119.79\n",
      "151 4940 jason heyward 21642467.93\n",
      "152 6661 alex colomé 6588529.57\n",
      "153 3298 charlie culberson 2995110.27\n",
      "154 2895 zach mcallister 969697.34\n",
      "155 10030 chris owings 5749703.28\n",
      "156 4892 mike moustakas 1851925.21\n",
      "157 13359 tyler naquin 5606291.20\n",
      "158 12918 archie bradley 3441019.29\n",
      "159 9929 darin ruf 2435439.47\n",
      "160 5297 aaron hicks 4855096.83\n",
      "161 8110 bryan shaw 6539426.54\n",
      "162 11339 jake marisnick 2769479.39\n",
      "163 9434 dallas keuchel 3214064.14\n",
      "164 11200 kole calhoun 10202075.13\n",
      "165 17186 dinelson lamet 2246558.94\n",
      "166 16918 luke weaver 5718363.85\n",
      "167 13475 daniel norris 387629.28\n",
      "168 12763 chris devenski 6060179.73\n",
      "169 10756 shane greene 125746.30\n",
      "170 11589 josé ureña 2705138.37\n",
      "171 5038 josh donaldson 5217710.31\n",
      "172 13394 dylan floro 1376487.94\n",
      "173 1157 tommy hunter 3035556.44\n",
      "174 8418 ehire adrianza 715445.66\n",
      "175 18289 brian anderson 3067208.36\n",
      "176 10199 billy hamilton 33359.42\n"
     ]
    }
   ],
   "source": [
    "# now let's print it out\n",
    "for ind, row in enumerate(df_free[np.logical_or(is_bat,is_pitch)].iterrows()):\n",
    "    print(ind, row[1].fgid, row[1].FirstName+' '+row[1].LastName, '%.2f'%10**pred0[ind])"
   ]
  },
  {
   "cell_type": "code",
   "execution_count": null,
   "id": "3a7e290b-acc2-4121-a142-d4ea5cd5007d",
   "metadata": {},
   "outputs": [],
   "source": []
  }
 ],
 "metadata": {
  "kernelspec": {
   "display_name": "Python 3 (ipykernel)",
   "language": "python",
   "name": "python3"
  },
  "language_info": {
   "codemirror_mode": {
    "name": "ipython",
    "version": 3
   },
   "file_extension": ".py",
   "mimetype": "text/x-python",
   "name": "python",
   "nbconvert_exporter": "python",
   "pygments_lexer": "ipython3",
   "version": "3.9.13"
  }
 },
 "nbformat": 4,
 "nbformat_minor": 5
}
