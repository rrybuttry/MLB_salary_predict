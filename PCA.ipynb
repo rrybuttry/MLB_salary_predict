{
 "cells": [
  {
   "cell_type": "code",
   "execution_count": 69,
   "id": "96482e4c-03d2-4881-99b9-8a135dc2f32b",
   "metadata": {},
   "outputs": [],
   "source": [
    "import numpy as np\n",
    "import pandas as pd\n",
    "import matplotlib.pyplot as plt\n",
    "import seaborn as sns\n",
    "\n",
    "from sklearn.decomposition import PCA"
   ]
  },
  {
   "cell_type": "code",
   "execution_count": 70,
   "id": "6e831a94-fd5c-4c99-b80b-b6097fae9c4e",
   "metadata": {},
   "outputs": [
    {
     "name": "stdout",
     "output_type": "stream",
     "text": [
      "3546 3246\n"
     ]
    }
   ],
   "source": [
    "teams = pd.read_csv('mlb_teams.csv')\n",
    "\n",
    "dp = pd.read_csv('stats_and_pay_pitchers.csv')\n",
    "db = pd.read_csv('stats_and_pay_batters.csv')\n",
    "print(len(dp), len(db) )"
   ]
  },
  {
   "cell_type": "code",
   "execution_count": 71,
   "id": "24bc3ca8-be5e-4cb1-a162-c963e3e70c0e",
   "metadata": {},
   "outputs": [
    {
     "data": {
      "text/plain": [
       "False"
      ]
     },
     "execution_count": 71,
     "metadata": {},
     "output_type": "execute_result"
    }
   ],
   "source": [
    "'1B_y' in db.columns"
   ]
  },
  {
   "cell_type": "markdown",
   "id": "ca8d793d-0f68-4345-94cf-050cf4966b4d",
   "metadata": {},
   "source": [
    "---\n",
    "# Pitching"
   ]
  },
  {
   "cell_type": "code",
   "execution_count": 72,
   "id": "da20f4db-b787-4de5-b148-8faa46923a12",
   "metadata": {
    "tags": []
   },
   "outputs": [],
   "source": [
    "# what initially seem like the stats that influcence pay the most for pitchers?\n",
    "pitch_corr_df = dp.corr(numeric_only=True) # get the pearson-r correlation matrix\n",
    "\n",
    "ppay_corr_sort = np.abs(pitch_corr_df['log_pay_adj']).sort_values()[::-1].dropna() # sort by the columns that correlate the most with pay\n",
    "nvals_in_cols = np.array([np.sum(~np.isnan(dp[col].values)) for col in ppay_corr_sort.index])"
   ]
  },
  {
   "cell_type": "code",
   "execution_count": 73,
   "id": "f3649be1-a189-4e5c-aca5-249fd4b7e5e9",
   "metadata": {
    "tags": []
   },
   "outputs": [
    {
     "name": "stdout",
     "output_type": "stream",
     "text": [
      "log_pay 0\n",
      "pay 0\n",
      "pay_adj 0\n",
      "p_+WPA 1021\n",
      "Start-IP 2252\n",
      "age 0\n",
      "p_SO 1021\n",
      "p_-WPA 1021\n",
      "p_RAR 1021\n",
      "p_WAR 1021\n",
      "IP 1021\n",
      "p_Age 1021\n",
      "p_Strikes 1021\n",
      "Starting 2252\n",
      "p_Pitches 1021\n",
      "W 1021\n",
      "TBF 1021\n",
      "RA9-WAR 1021\n",
      "p_Balls 1021\n",
      "p_Events 1021\n",
      "p_GB 1021\n",
      "p_FB 1021\n",
      "p_H 1021\n",
      "p_LD 1021\n",
      "RS 1021\n",
      "p_HardHit 1021\n",
      "GS 1021\n",
      "p_IFH 1021\n",
      "p_Barrels 1021\n",
      "p_IFFB 1021\n",
      "p_BB 1021\n",
      "p_R 1021\n",
      "p_HR 1021\n",
      "ER 1021\n",
      "L 1021\n",
      "inLI 1021\n",
      "Relieving 1649\n",
      "p_BU 1021\n",
      "p_pLI 1021\n",
      "botERA 2911\n",
      "botOvr 2911\n",
      "botxRV100 2911\n",
      "Location+ 2911\n",
      "kwERA 1021\n",
      "xFIP 1021\n",
      "Pitching+ 2911\n",
      "p_REW 1021\n",
      "p_WPA 1021\n",
      "p_HBP 1021\n",
      "xFIP- 1021\n"
     ]
    }
   ],
   "source": [
    "# how many nans are there in these columns\n",
    "for col in list(ppay_corr_sort[np.logical_and(nvals_in_cols>100, ppay_corr_sort<1.0)].iloc[:50].index):\n",
    "    print(col,np.isnan(dp[col].values).sum())"
   ]
  },
  {
   "cell_type": "code",
   "execution_count": 74,
   "id": "48a776b4-1bb3-4e35-9a16-a10f3d289386",
   "metadata": {},
   "outputs": [
    {
     "data": {
      "text/html": [
       "<div>\n",
       "<style scoped>\n",
       "    .dataframe tbody tr th:only-of-type {\n",
       "        vertical-align: middle;\n",
       "    }\n",
       "\n",
       "    .dataframe tbody tr th {\n",
       "        vertical-align: top;\n",
       "    }\n",
       "\n",
       "    .dataframe thead th {\n",
       "        text-align: right;\n",
       "    }\n",
       "</style>\n",
       "<table border=\"1\" class=\"dataframe\">\n",
       "  <thead>\n",
       "    <tr style=\"text-align: right;\">\n",
       "      <th></th>\n",
       "      <th>year</th>\n",
       "      <th>team</th>\n",
       "      <th>first_name</th>\n",
       "      <th>last_name</th>\n",
       "      <th>pay</th>\n",
       "      <th>age</th>\n",
       "      <th>position</th>\n",
       "      <th>status</th>\n",
       "      <th>Season</th>\n",
       "      <th>team_abbrev</th>\n",
       "      <th>...</th>\n",
       "      <th>Pit+ FC</th>\n",
       "      <th>Stf+ FS</th>\n",
       "      <th>Loc+ FS</th>\n",
       "      <th>Pit+ FS</th>\n",
       "      <th>Stuff+</th>\n",
       "      <th>Location+</th>\n",
       "      <th>Pitching+</th>\n",
       "      <th>Stf+ FO</th>\n",
       "      <th>Loc+ FO</th>\n",
       "      <th>Pit+ FO</th>\n",
       "    </tr>\n",
       "  </thead>\n",
       "  <tbody>\n",
       "    <tr>\n",
       "      <th>7</th>\n",
       "      <td>2016</td>\n",
       "      <td>Arizona Diamondbacks</td>\n",
       "      <td>Jake</td>\n",
       "      <td>Barrett</td>\n",
       "      <td>476956.0</td>\n",
       "      <td>24</td>\n",
       "      <td>RP</td>\n",
       "      <td>NaN</td>\n",
       "      <td>2016</td>\n",
       "      <td>ARI</td>\n",
       "      <td>...</td>\n",
       "      <td>NaN</td>\n",
       "      <td>NaN</td>\n",
       "      <td>NaN</td>\n",
       "      <td>NaN</td>\n",
       "      <td>NaN</td>\n",
       "      <td>NaN</td>\n",
       "      <td>NaN</td>\n",
       "      <td>NaN</td>\n",
       "      <td>NaN</td>\n",
       "      <td>NaN</td>\n",
       "    </tr>\n",
       "    <tr>\n",
       "      <th>10</th>\n",
       "      <td>2016</td>\n",
       "      <td>Arizona Diamondbacks</td>\n",
       "      <td>Enrique</td>\n",
       "      <td>Burgos</td>\n",
       "      <td>304655.0</td>\n",
       "      <td>25</td>\n",
       "      <td>RP</td>\n",
       "      <td>NaN</td>\n",
       "      <td>2016</td>\n",
       "      <td>ARI</td>\n",
       "      <td>...</td>\n",
       "      <td>NaN</td>\n",
       "      <td>NaN</td>\n",
       "      <td>NaN</td>\n",
       "      <td>NaN</td>\n",
       "      <td>NaN</td>\n",
       "      <td>NaN</td>\n",
       "      <td>NaN</td>\n",
       "      <td>NaN</td>\n",
       "      <td>NaN</td>\n",
       "      <td>NaN</td>\n",
       "    </tr>\n",
       "    <tr>\n",
       "      <th>14</th>\n",
       "      <td>2016</td>\n",
       "      <td>Arizona Diamondbacks</td>\n",
       "      <td>Braden</td>\n",
       "      <td>Shipley</td>\n",
       "      <td>194110.0</td>\n",
       "      <td>24</td>\n",
       "      <td>SP</td>\n",
       "      <td>Pre-Arb</td>\n",
       "      <td>2016</td>\n",
       "      <td>ARI</td>\n",
       "      <td>...</td>\n",
       "      <td>NaN</td>\n",
       "      <td>NaN</td>\n",
       "      <td>NaN</td>\n",
       "      <td>NaN</td>\n",
       "      <td>NaN</td>\n",
       "      <td>NaN</td>\n",
       "      <td>NaN</td>\n",
       "      <td>NaN</td>\n",
       "      <td>NaN</td>\n",
       "      <td>NaN</td>\n",
       "    </tr>\n",
       "    <tr>\n",
       "      <th>15</th>\n",
       "      <td>2016</td>\n",
       "      <td>Arizona Diamondbacks</td>\n",
       "      <td>Edwin</td>\n",
       "      <td>Escobar</td>\n",
       "      <td>177472.0</td>\n",
       "      <td>24</td>\n",
       "      <td>RP</td>\n",
       "      <td>NaN</td>\n",
       "      <td>2016</td>\n",
       "      <td>ARI</td>\n",
       "      <td>...</td>\n",
       "      <td>NaN</td>\n",
       "      <td>NaN</td>\n",
       "      <td>NaN</td>\n",
       "      <td>NaN</td>\n",
       "      <td>NaN</td>\n",
       "      <td>NaN</td>\n",
       "      <td>NaN</td>\n",
       "      <td>NaN</td>\n",
       "      <td>NaN</td>\n",
       "      <td>NaN</td>\n",
       "    </tr>\n",
       "    <tr>\n",
       "      <th>16</th>\n",
       "      <td>2016</td>\n",
       "      <td>Arizona Diamondbacks</td>\n",
       "      <td>Steve</td>\n",
       "      <td>Hathaway</td>\n",
       "      <td>149742.0</td>\n",
       "      <td>25</td>\n",
       "      <td>P</td>\n",
       "      <td>NaN</td>\n",
       "      <td>2016</td>\n",
       "      <td>ARI</td>\n",
       "      <td>...</td>\n",
       "      <td>NaN</td>\n",
       "      <td>NaN</td>\n",
       "      <td>NaN</td>\n",
       "      <td>NaN</td>\n",
       "      <td>NaN</td>\n",
       "      <td>NaN</td>\n",
       "      <td>NaN</td>\n",
       "      <td>NaN</td>\n",
       "      <td>NaN</td>\n",
       "      <td>NaN</td>\n",
       "    </tr>\n",
       "    <tr>\n",
       "      <th>...</th>\n",
       "      <td>...</td>\n",
       "      <td>...</td>\n",
       "      <td>...</td>\n",
       "      <td>...</td>\n",
       "      <td>...</td>\n",
       "      <td>...</td>\n",
       "      <td>...</td>\n",
       "      <td>...</td>\n",
       "      <td>...</td>\n",
       "      <td>...</td>\n",
       "      <td>...</td>\n",
       "      <td>...</td>\n",
       "      <td>...</td>\n",
       "      <td>...</td>\n",
       "      <td>...</td>\n",
       "      <td>...</td>\n",
       "      <td>...</td>\n",
       "      <td>...</td>\n",
       "      <td>...</td>\n",
       "      <td>...</td>\n",
       "      <td>...</td>\n",
       "    </tr>\n",
       "    <tr>\n",
       "      <th>3517</th>\n",
       "      <td>2022</td>\n",
       "      <td>Texas Rangers</td>\n",
       "      <td>Yerry</td>\n",
       "      <td>Rodriguez</td>\n",
       "      <td>15384.0</td>\n",
       "      <td>24</td>\n",
       "      <td>SP</td>\n",
       "      <td>Pre-Arb</td>\n",
       "      <td>2022</td>\n",
       "      <td>TEX</td>\n",
       "      <td>...</td>\n",
       "      <td>NaN</td>\n",
       "      <td>NaN</td>\n",
       "      <td>NaN</td>\n",
       "      <td>NaN</td>\n",
       "      <td>NaN</td>\n",
       "      <td>NaN</td>\n",
       "      <td>NaN</td>\n",
       "      <td>NaN</td>\n",
       "      <td>NaN</td>\n",
       "      <td>NaN</td>\n",
       "    </tr>\n",
       "    <tr>\n",
       "      <th>3520</th>\n",
       "      <td>2022</td>\n",
       "      <td>Toronto Blue Jays</td>\n",
       "      <td>Jose</td>\n",
       "      <td>Berrios</td>\n",
       "      <td>10714285.0</td>\n",
       "      <td>28</td>\n",
       "      <td>SP</td>\n",
       "      <td>Vet</td>\n",
       "      <td>2022</td>\n",
       "      <td>TOR</td>\n",
       "      <td>...</td>\n",
       "      <td>NaN</td>\n",
       "      <td>NaN</td>\n",
       "      <td>NaN</td>\n",
       "      <td>NaN</td>\n",
       "      <td>NaN</td>\n",
       "      <td>NaN</td>\n",
       "      <td>NaN</td>\n",
       "      <td>NaN</td>\n",
       "      <td>NaN</td>\n",
       "      <td>NaN</td>\n",
       "    </tr>\n",
       "    <tr>\n",
       "      <th>3535</th>\n",
       "      <td>2022</td>\n",
       "      <td>Washington Nationals</td>\n",
       "      <td>Anibal</td>\n",
       "      <td>Sanchez</td>\n",
       "      <td>2000000.0</td>\n",
       "      <td>38</td>\n",
       "      <td>SP</td>\n",
       "      <td>Vet</td>\n",
       "      <td>2022</td>\n",
       "      <td>WAS</td>\n",
       "      <td>...</td>\n",
       "      <td>NaN</td>\n",
       "      <td>NaN</td>\n",
       "      <td>NaN</td>\n",
       "      <td>NaN</td>\n",
       "      <td>NaN</td>\n",
       "      <td>NaN</td>\n",
       "      <td>NaN</td>\n",
       "      <td>NaN</td>\n",
       "      <td>NaN</td>\n",
       "      <td>NaN</td>\n",
       "    </tr>\n",
       "    <tr>\n",
       "      <th>3540</th>\n",
       "      <td>2022</td>\n",
       "      <td>Washington Nationals</td>\n",
       "      <td>Erasmo</td>\n",
       "      <td>Ramirez</td>\n",
       "      <td>646128.0</td>\n",
       "      <td>32</td>\n",
       "      <td>RP</td>\n",
       "      <td>Vet</td>\n",
       "      <td>2022</td>\n",
       "      <td>WAS</td>\n",
       "      <td>...</td>\n",
       "      <td>NaN</td>\n",
       "      <td>NaN</td>\n",
       "      <td>NaN</td>\n",
       "      <td>NaN</td>\n",
       "      <td>NaN</td>\n",
       "      <td>NaN</td>\n",
       "      <td>NaN</td>\n",
       "      <td>NaN</td>\n",
       "      <td>NaN</td>\n",
       "      <td>NaN</td>\n",
       "    </tr>\n",
       "    <tr>\n",
       "      <th>3541</th>\n",
       "      <td>2022</td>\n",
       "      <td>Washington Nationals</td>\n",
       "      <td>C.J.</td>\n",
       "      <td>Edwards</td>\n",
       "      <td>569208.0</td>\n",
       "      <td>30</td>\n",
       "      <td>RP</td>\n",
       "      <td>NaN</td>\n",
       "      <td>2022</td>\n",
       "      <td>WAS</td>\n",
       "      <td>...</td>\n",
       "      <td>NaN</td>\n",
       "      <td>NaN</td>\n",
       "      <td>NaN</td>\n",
       "      <td>NaN</td>\n",
       "      <td>NaN</td>\n",
       "      <td>NaN</td>\n",
       "      <td>NaN</td>\n",
       "      <td>NaN</td>\n",
       "      <td>NaN</td>\n",
       "      <td>NaN</td>\n",
       "    </tr>\n",
       "  </tbody>\n",
       "</table>\n",
       "<p>1021 rows × 411 columns</p>\n",
       "</div>"
      ],
      "text/plain": [
       "      year                  team first_name   last_name         pay  age  \\\n",
       "7     2016  Arizona Diamondbacks       Jake     Barrett    476956.0   24   \n",
       "10    2016  Arizona Diamondbacks    Enrique      Burgos    304655.0   25   \n",
       "14    2016  Arizona Diamondbacks     Braden     Shipley    194110.0   24   \n",
       "15    2016  Arizona Diamondbacks      Edwin     Escobar    177472.0   24   \n",
       "16    2016  Arizona Diamondbacks      Steve    Hathaway    149742.0   25   \n",
       "...    ...                   ...        ...         ...         ...  ...   \n",
       "3517  2022         Texas Rangers      Yerry   Rodriguez     15384.0   24   \n",
       "3520  2022     Toronto Blue Jays       Jose     Berrios  10714285.0   28   \n",
       "3535  2022  Washington Nationals     Anibal     Sanchez   2000000.0   38   \n",
       "3540  2022  Washington Nationals     Erasmo     Ramirez    646128.0   32   \n",
       "3541  2022  Washington Nationals       C.J.     Edwards    569208.0   30   \n",
       "\n",
       "     position   status  Season team_abbrev  ...  Pit+ FC  Stf+ FS  Loc+ FS  \\\n",
       "7          RP      NaN    2016         ARI  ...      NaN      NaN      NaN   \n",
       "10         RP      NaN    2016         ARI  ...      NaN      NaN      NaN   \n",
       "14         SP  Pre-Arb    2016         ARI  ...      NaN      NaN      NaN   \n",
       "15         RP      NaN    2016         ARI  ...      NaN      NaN      NaN   \n",
       "16          P      NaN    2016         ARI  ...      NaN      NaN      NaN   \n",
       "...       ...      ...     ...         ...  ...      ...      ...      ...   \n",
       "3517       SP  Pre-Arb    2022         TEX  ...      NaN      NaN      NaN   \n",
       "3520       SP      Vet    2022         TOR  ...      NaN      NaN      NaN   \n",
       "3535       SP      Vet    2022        WAS   ...      NaN      NaN      NaN   \n",
       "3540       RP      Vet    2022        WAS   ...      NaN      NaN      NaN   \n",
       "3541       RP      NaN    2022        WAS   ...      NaN      NaN      NaN   \n",
       "\n",
       "      Pit+ FS  Stuff+  Location+  Pitching+  Stf+ FO  Loc+ FO  Pit+ FO  \n",
       "7         NaN     NaN        NaN        NaN      NaN      NaN      NaN  \n",
       "10        NaN     NaN        NaN        NaN      NaN      NaN      NaN  \n",
       "14        NaN     NaN        NaN        NaN      NaN      NaN      NaN  \n",
       "15        NaN     NaN        NaN        NaN      NaN      NaN      NaN  \n",
       "16        NaN     NaN        NaN        NaN      NaN      NaN      NaN  \n",
       "...       ...     ...        ...        ...      ...      ...      ...  \n",
       "3517      NaN     NaN        NaN        NaN      NaN      NaN      NaN  \n",
       "3520      NaN     NaN        NaN        NaN      NaN      NaN      NaN  \n",
       "3535      NaN     NaN        NaN        NaN      NaN      NaN      NaN  \n",
       "3540      NaN     NaN        NaN        NaN      NaN      NaN      NaN  \n",
       "3541      NaN     NaN        NaN        NaN      NaN      NaN      NaN  \n",
       "\n",
       "[1021 rows x 411 columns]"
      ]
     },
     "execution_count": 74,
     "metadata": {},
     "output_type": "execute_result"
    }
   ],
   "source": [
    "dp[np.isnan(dp['p_+WPA'].values)]"
   ]
  },
  {
   "cell_type": "code",
   "execution_count": 75,
   "id": "66736fae-3828-447c-b210-3483cf500c4d",
   "metadata": {},
   "outputs": [
    {
     "name": "stderr",
     "output_type": "stream",
     "text": [
      "/tmp/ipykernel_104/1393229968.py:15: RuntimeWarning: Mean of empty slice\n",
      "  dp_pca[col] = dp_pca[col].fillna(np.nanmean(dp_pca[col].values)) # fill the nans with means\n"
     ]
    },
    {
     "data": {
      "text/plain": [
       "(392, 392)"
      ]
     },
     "execution_count": 75,
     "metadata": {},
     "output_type": "execute_result"
    }
   ],
   "source": [
    "# let's try some PCA with all columns except pay\n",
    "\n",
    "pca_p = PCA(n_components=15)\n",
    "columns_mask = np.logical_and.reduce([dp.columns!='pay',dp.columns!='log_pay',\n",
    "                                      dp.columns!='pay_adj', dp.columns!='log_pay_adj',\n",
    "                                      dp.columns!='adj', dp.columns!='year',\n",
    "                                      dp.columns!='Season',dp.columns!='Season_prev',\n",
    "                                      dp.columns!='fgid',\n",
    "                                      np.logical_or(dp.dtypes==np.float64,dp.dtypes==int)])\n",
    "\n",
    "\n",
    "\n",
    "dp_pca = dp[dp.columns[columns_mask]].copy()\n",
    "for col in dp_pca.columns:\n",
    "    dp_pca[col] = dp_pca[col].fillna(np.nanmean(dp_pca[col].values)) # fill the nans with means\n",
    "dp_pca = dp_pca.fillna(-999) # fill remaining nans\n",
    "pca_p.fit(dp_pca.values)\n",
    "\n",
    "len(np.max(pca_p.components_, axis=0)), len(dp_pca.columns)"
   ]
  },
  {
   "cell_type": "code",
   "execution_count": 76,
   "id": "16a930de-405a-405b-b3ef-adf249eb1b5d",
   "metadata": {},
   "outputs": [
    {
     "data": {
      "text/plain": [
       "array([0.0119541])"
      ]
     },
     "execution_count": 76,
     "metadata": {},
     "output_type": "execute_result"
    }
   ],
   "source": [
    "# what is the max weight of WPA?\n",
    "np.max(pca_p.components_, axis=0)[dp_pca.columns=='p_WPA']"
   ]
  },
  {
   "cell_type": "code",
   "execution_count": 77,
   "id": "d1c0ab0d-7f15-44da-99da-70a0b245405f",
   "metadata": {},
   "outputs": [
    {
     "data": {
      "text/plain": [
       "[<matplotlib.lines.Line2D at 0x7fa5db209880>]"
      ]
     },
     "execution_count": 77,
     "metadata": {},
     "output_type": "execute_result"
    },
    {
     "data": {
      "image/png": "[encoded data removed]",
      "text/plain": [
       "<Figure size 640x480 with 1 Axes>"
      ]
     },
     "metadata": {},
     "output_type": "display_data"
    }
   ],
   "source": [
    "# what should the threshold be to find the most important columns?\n",
    "thresh_p = 0.005\n",
    "b = plt.hist(np.max(pca_p.components_, axis=0), bins=100)\n",
    "plt.plot(np.ones(2)*thresh_p, [0,max(b[0])])"
   ]
  },
  {
   "cell_type": "code",
   "execution_count": 78,
   "id": "4beec198-82e1-428f-a872-324bd9a24823",
   "metadata": {},
   "outputs": [
    {
     "data": {
      "text/plain": [
       "(Index(['age', 'p_Age', 'W', 'L', 'p_WAR', 'ERA', 'p_G', 'GS', 'SV', 'BS',\n",
       "        ...\n",
       "        'Stf+ SL', 'Loc+ SL', 'Pit+ SL', 'Stf+ FC', 'Loc+ FC', 'Pit+ FC',\n",
       "        'Stf+ FS', 'Stuff+', 'Location+', 'Pitching+'],\n",
       "       dtype='object', length=197),\n",
       " 197)"
      ]
     },
     "execution_count": 78,
     "metadata": {},
     "output_type": "execute_result"
    }
   ],
   "source": [
    "# find the cols for which the pca has put the most weight on\n",
    "dp_pca.columns[np.max(pca_p.components_, axis=0)>thresh_p], len(dp_pca.columns[np.max(pca_p.components_, axis=0)>thresh_p])"
   ]
  },
  {
   "cell_type": "code",
   "execution_count": 79,
   "id": "99d11947-17c6-4884-98ad-6d54682f1d80",
   "metadata": {},
   "outputs": [],
   "source": [
    "# we've saving this cut table\n",
    "dp_topcol = dp[['fgid','year','pay_adj','log_pay_adj']+list(dp_pca.columns[np.max(pca_p.components_, axis=0)>thresh_p])].copy()\n",
    "dp_topcol.to_csv('stats_and_pay_pitchers_topcols.csv', index=False)"
   ]
  },
  {
   "cell_type": "code",
   "execution_count": null,
   "id": "63c11482-5cb3-41fc-ba28-f07e9db0e165",
   "metadata": {},
   "outputs": [],
   "source": []
  },
  {
   "cell_type": "markdown",
   "id": "fe6d68ca-cdf2-4392-b8d3-54fd287839b7",
   "metadata": {},
   "source": [
    "---\n",
    "# Batting"
   ]
  },
  {
   "cell_type": "code",
   "execution_count": 80,
   "id": "b53ffdd5-f553-42d0-b9ab-bd3533e844d4",
   "metadata": {
    "tags": []
   },
   "outputs": [],
   "source": [
    "# what initially seem like the stats that influcence pay the most for pitchers?\n",
    "bat_corr_df = db.corr(numeric_only=True) # get the pearson-r correlation matrix\n",
    "\n",
    "bpay_corr_sort = np.abs(bat_corr_df['log_pay_adj']).sort_values()[::-1].dropna() # sort by the columns that correlate the most with pay\n",
    "nvals_in_cols = np.array([np.sum(~np.isnan(db[col].values)) for col in bpay_corr_sort.index])"
   ]
  },
  {
   "cell_type": "code",
   "execution_count": 81,
   "id": "0257e2ec-1cff-4e41-aa61-84fe1bdf6c0a",
   "metadata": {
    "tags": []
   },
   "outputs": [
    {
     "name": "stdout",
     "output_type": "stream",
     "text": [
      "log_pay 0\n",
      "pay_adj 0\n",
      "pay 0\n",
      "b_HardHit 707\n",
      "b_+WPA 707\n",
      "b_Balls 707\n",
      "wRC 707\n",
      "PA 707\n",
      "Rep 707\n",
      "b_Pitches 707\n",
      "b_Events 707\n",
      "RBI 707\n",
      "b_H 707\n",
      "b_FB 707\n",
      "AB 707\n",
      "b_R 707\n",
      "b_Strikes 707\n",
      "b_-WPA 707\n",
      "b_LD 707\n",
      "b_BB 707\n",
      "1B 707\n",
      "b_GB 707\n",
      "2B 707\n",
      "b_G 707\n",
      "GDP 707\n",
      "age 0\n",
      "b_HR 707\n",
      "b_Barrels 707\n",
      "L-WAR 707\n",
      "b_WAR 707\n",
      "b_RAR 707\n",
      "b_SO 707\n",
      "b_Age 707\n",
      "SF 707\n",
      "b_IFFB 707\n",
      "Lg 707\n",
      "b_IFH 707\n",
      "b_IBB 707\n",
      "wRAA 707\n",
      "b_RE24 707\n",
      "b_REW 707\n",
      "b_wFB 708\n",
      "b_WPA/LI 707\n",
      "b_maxEV 711\n",
      "Bat 707\n",
      "OPS 707\n",
      "BB/K 707\n",
      "wRC+ 707\n",
      "wOBA 707\n",
      "SLG+ 708\n"
     ]
    }
   ],
   "source": [
    "# how many nans are there in these columns\n",
    "for col in list(bpay_corr_sort[np.logical_and(nvals_in_cols>100, bpay_corr_sort<1.0)].iloc[:50].index):\n",
    "    print(col,np.isnan(db[col].values).sum())"
   ]
  },
  {
   "cell_type": "code",
   "execution_count": 82,
   "id": "4fec29b4-f373-4d34-8db8-dee1a28138e8",
   "metadata": {},
   "outputs": [
    {
     "name": "stderr",
     "output_type": "stream",
     "text": [
      "/tmp/ipykernel_104/636723824.py:12: RuntimeWarning: Mean of empty slice\n",
      "  db_pca[col].fillna(np.nanmean(db_pca[col].values),inplace=True) # fill the nans with means\n"
     ]
    },
    {
     "data": {
      "text/plain": [
       "(319, 319)"
      ]
     },
     "execution_count": 82,
     "metadata": {},
     "output_type": "execute_result"
    }
   ],
   "source": [
    "# let's try some PCA with all columns except pay\n",
    "pca_b = PCA(n_components=15)\n",
    "columns_mask = np.logical_and.reduce([db.columns!='pay',db.columns!='log_pay',\n",
    "                                      db.columns!='pay_adj', db.columns!='log_pay_adj',\n",
    "                                      db.columns!='adj', db.columns!='year',\n",
    "                                      db.columns!='Season',db.columns!='Season_prev',\n",
    "                                      db.columns!='fgid',\n",
    "                                      np.logical_or(db.dtypes==np.float64,db.dtypes==int)])\n",
    "\n",
    "db_pca = db[db.columns[columns_mask]].copy()\n",
    "for col in db_pca.columns:\n",
    "    db_pca[col].fillna(np.nanmean(db_pca[col].values),inplace=True) # fill the nans with means\n",
    "db_pca = db_pca.fillna(-999) # fill remaining nans\n",
    "pca_b.fit(db_pca.values)\n",
    "\n",
    "len(np.max(pca_b.components_, axis=0)), len(db_pca.columns)"
   ]
  },
  {
   "cell_type": "code",
   "execution_count": 83,
   "id": "6d42d258-064d-46bf-b004-b081864167f6",
   "metadata": {},
   "outputs": [
    {
     "data": {
      "text/plain": [
       "[<matplotlib.lines.Line2D at 0x7fa5dab05eb0>]"
      ]
     },
     "execution_count": 83,
     "metadata": {},
     "output_type": "execute_result"
    },
    {
     "data": {
      "image/png": "[encoded data removed]",
      "text/plain": [
       "<Figure size 640x480 with 1 Axes>"
      ]
     },
     "metadata": {},
     "output_type": "display_data"
    }
   ],
   "source": [
    "# what should the threshold be to find the most important columns?\n",
    "thresh_b = 0.005\n",
    "b = plt.hist(np.max(pca_b.components_, axis=0), bins=100)\n",
    "plt.plot(np.ones(2)*thresh_b , [0,max(b[0])])"
   ]
  },
  {
   "cell_type": "code",
   "execution_count": 84,
   "id": "641114df-3aea-491c-9068-4ecdf412cb87",
   "metadata": {},
   "outputs": [
    {
     "data": {
      "text/plain": [
       "(Index(['age', 'b_Age', 'b_G', 'AB', 'PA', 'b_H', '1B', '2B', '3B', 'b_HR',\n",
       "        ...\n",
       "        'b_Soft%+', 'b_Med%+', 'b_Hard%+', 'b_EV', 'b_LA', 'b_Barrels',\n",
       "        'b_maxEV', 'b_HardHit', 'b_Events', 'L-WAR'],\n",
       "       dtype='object', length=136),\n",
       " 136)"
      ]
     },
     "execution_count": 84,
     "metadata": {},
     "output_type": "execute_result"
    }
   ],
   "source": [
    "# find the cols for which the pca has put the most weight on\n",
    "db_pca.columns[np.max(pca_b.components_, axis=0)>thresh_b ], len(db_pca.columns[np.max(pca_b.components_, axis=0)>thresh_b ])"
   ]
  },
  {
   "cell_type": "code",
   "execution_count": 85,
   "id": "04e64172-c6bc-428e-9869-146c7d9010c7",
   "metadata": {},
   "outputs": [
    {
     "data": {
      "text/plain": [
       "False"
      ]
     },
     "execution_count": 85,
     "metadata": {},
     "output_type": "execute_result"
    }
   ],
   "source": [
    "'1B_y' in db_pca.columns"
   ]
  },
  {
   "cell_type": "code",
   "execution_count": null,
   "id": "bbbcc872-3271-449e-9f33-6979aa9fd2fc",
   "metadata": {},
   "outputs": [],
   "source": []
  },
  {
   "cell_type": "code",
   "execution_count": 86,
   "id": "e1d243d6-d85b-4ded-98dd-5143bbdc28ed",
   "metadata": {},
   "outputs": [],
   "source": [
    "# we've saving this cut table\n",
    "db_topcol = db[['fgid','year','pay_adj','log_pay_adj']+list(db_pca.columns[np.max(pca_b.components_, axis=0)>thresh_b ])].copy()\n",
    "db_topcol.to_csv('stats_and_pay_batters_topcols.csv', index=False)"
   ]
  },
  {
   "cell_type": "markdown",
   "id": "212ccbab-6bd8-4b36-bdd5-09cbf02b5b8a",
   "metadata": {},
   "source": [
    "---"
   ]
  },
  {
   "cell_type": "code",
   "execution_count": 87,
   "id": "31123ccb-e790-4bda-8568-5437708623f0",
   "metadata": {},
   "outputs": [
    {
     "name": "stderr",
     "output_type": "stream",
     "text": [
      "/tmp/ipykernel_104/2651873030.py:13: RuntimeWarning: Mean of empty slice\n",
      "  dp_pca[col] = dp_pca[col].fillna(np.nanmean(dp_pca[col].values)) # fill the nans with means\n",
      "/tmp/ipykernel_104/2651873030.py:27: RuntimeWarning: Mean of empty slice\n",
      "  db_pca[col].fillna(np.nanmean(db_pca[col].values),inplace=True) # fill the nans with means\n"
     ]
    },
    {
     "data": {
      "text/plain": [
       "(392, 319)"
      ]
     },
     "execution_count": 87,
     "metadata": {},
     "output_type": "execute_result"
    }
   ],
   "source": [
    "# let's try some PCA with all columns except pay\n",
    "\n",
    "# get pitchign dat\n",
    "columns_mask = np.logical_and.reduce([dp.columns!='pay',dp.columns!='log_pay',\n",
    "                                      dp.columns!='pay_adj', dp.columns!='log_pay_adj',\n",
    "                                      dp.columns!='adj', dp.columns!='year', \n",
    "                                      dp.columns!='Season',dp.columns!='Season_prev',\n",
    "                                      dp.columns!='fgid',\n",
    "                                      np.logical_or(dp.dtypes==np.float64,dp.dtypes==int)])\n",
    "\n",
    "dp_pca = dp[dp.columns[columns_mask]].copy()\n",
    "for col in dp_pca.columns:\n",
    "    dp_pca[col] = dp_pca[col].fillna(np.nanmean(dp_pca[col].values)) # fill the nans with means\n",
    "dp_pca = dp_pca.fillna(0) # fill remaining nans\n",
    "\n",
    "\n",
    "# get batting dat\n",
    "columns_mask = np.logical_and.reduce([db.columns!='pay',db.columns!='log_pay',\n",
    "                                      db.columns!='pay_adj', db.columns!='log_pay_adj',\n",
    "                                      db.columns!='adj', db.columns!='year',\n",
    "                                      db.columns!='Season',db.columns!='Season_prev',\n",
    "                                      db.columns!='fgid',\n",
    "                                      np.logical_or(db.dtypes==np.float64,db.dtypes==int)])\n",
    "\n",
    "db_pca = db[db.columns[columns_mask]].copy()\n",
    "for col in db_pca.columns:\n",
    "    db_pca[col].fillna(np.nanmean(db_pca[col].values),inplace=True) # fill the nans with means\n",
    "db_pca = db_pca.fillna(0) # fill remaining nans\n",
    "\n",
    "\n",
    "len(dp_pca.columns),len(db_pca.columns)"
   ]
  },
  {
   "cell_type": "code",
   "execution_count": 88,
   "id": "c79e5a5c-73de-4bf7-a37d-bccee1aa4fb7",
   "metadata": {},
   "outputs": [
    {
     "name": "stdout",
     "output_type": "stream",
     "text": [
      "(6770, 715)\n",
      "(200, 711)\n"
     ]
    }
   ],
   "source": [
    "# prepare for merge\n",
    "db_prep = pd.concat([db[['fgid','pay_adj','log_pay_adj','year']], db_pca],axis=1)\n",
    "dp_prep = pd.concat([dp[['fgid','pay_adj','log_pay_adj','year']], dp_pca],axis=1)\n",
    "\n",
    "# merge!\n",
    "df = pd.merge(dp_prep,db_prep, on=['fgid','pay_adj','log_pay_adj','year'],how='outer')\n",
    "df = df[df['pay_adj']>0]\n",
    "print(df.shape)\n",
    "\n",
    "pca = PCA(n_components=200)\n",
    "\n",
    "colm = np.logical_and.reduce([df.columns!=col for col in ['fgid','pay_adj','log_pay_adj','year']])\n",
    "df_pca = df[df.columns[colm]].copy()\n",
    "\n",
    "df_pca = df_pca.fillna(0)\n",
    "pca.fit(df_pca.values)\n",
    "\n",
    "print(pca.components_.shape)"
   ]
  },
  {
   "cell_type": "code",
   "execution_count": 89,
   "id": "b1e7d61e-253e-4db6-9a67-2d003a3e3297",
   "metadata": {},
   "outputs": [
    {
     "data": {
      "text/plain": [
       "[<matplotlib.lines.Line2D at 0x7fa58ac5d9a0>]"
      ]
     },
     "execution_count": 89,
     "metadata": {},
     "output_type": "execute_result"
    },
    {
     "data": {
      "image/png": "[encoded data removed]",
      "text/plain": [
       "<Figure size 640x480 with 1 Axes>"
      ]
     },
     "metadata": {},
     "output_type": "display_data"
    }
   ],
   "source": [
    "thresh = 0.005\n",
    "b = plt.hist(np.max(pca.components_, axis=0), bins=100)\n",
    "plt.plot(np.ones(2)*thresh , [0,max(b[0])])"
   ]
  },
  {
   "cell_type": "code",
   "execution_count": 90,
   "id": "15f25f7c-e333-4228-b5bf-d241805ded92",
   "metadata": {},
   "outputs": [],
   "source": [
    "# perhaps we save the pca \n",
    "df_pca_comp = pd.DataFrame(data = pca.components_.T,  \n",
    "                  columns = ['pca_c%i'%i for i in range(pca.components_.shape[0])]) \n",
    "df_out = pd.concat([df[['fgid','pay_adj','log_pay_adj','year']], df_pca_comp], axis=1)\n",
    "df_out.to_csv('stats_and_pay_batters_pca.csv', index=False)"
   ]
  },
  {
   "cell_type": "code",
   "execution_count": null,
   "id": "b6af94d7-799d-4cb4-a49a-6a460eeb64c9",
   "metadata": {},
   "outputs": [],
   "source": []
  },
  {
   "cell_type": "code",
   "execution_count": null,
   "id": "44ca5320-f850-4699-91fb-e1dbae23c6f0",
   "metadata": {},
   "outputs": [],
   "source": []
  }
 ],
 "metadata": {
  "kernelspec": {
   "display_name": "Python 3 (ipykernel)",
   "language": "python",
   "name": "python3"
  },
  "language_info": {
   "codemirror_mode": {
    "name": "ipython",
    "version": 3
   },
   "file_extension": ".py",
   "mimetype": "text/x-python",
   "name": "python",
   "nbconvert_exporter": "python",
   "pygments_lexer": "ipython3",
   "version": "3.9.13"
  }
 },
 "nbformat": 4,
 "nbformat_minor": 5
}
