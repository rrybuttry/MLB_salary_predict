{
 "cells": [
  {
   "cell_type": "code",
   "execution_count": 1,
   "id": "25f239a3-1858-4a88-a946-81e41579f50e",
   "metadata": {},
   "outputs": [],
   "source": [
    "import numpy as np\n",
    "import pandas as pd\n",
    "import matplotlib.pyplot as plt\n",
    "import seaborn as sns\n",
    "\n",
    "## import train_test_split\n",
    "from sklearn.model_selection import train_test_split"
   ]
  },
  {
   "cell_type": "code",
   "execution_count": 2,
   "id": "1120ad26-a8b5-48f3-a8ee-6aa305e1b14f",
   "metadata": {},
   "outputs": [],
   "source": [
    "dp = pd.read_csv('stats_and_pay_pitchers_topcols.csv')\n",
    "db = pd.read_csv('stats_and_pay_batters_topcols.csv')"
   ]
  },
  {
   "cell_type": "code",
   "execution_count": 3,
   "id": "0c726ba1-347e-4f8b-bfc4-ef535f7b6c93",
   "metadata": {},
   "outputs": [],
   "source": [
    "# do train/test split for each\n",
    "train_p, test_p = train_test_split(dp.copy(), random_state=123)\n",
    "train_b, test_b = train_test_split(db.copy(), random_state=456)"
   ]
  },
  {
   "cell_type": "code",
   "execution_count": 4,
   "id": "c35f8014-9506-4537-af50-7c6c42eaecf4",
   "metadata": {},
   "outputs": [
    {
     "data": {
      "text/plain": [
       "(2659, 887)"
      ]
     },
     "execution_count": 4,
     "metadata": {},
     "output_type": "execute_result"
    }
   ],
   "source": [
    "len(train_p), len(test_p)"
   ]
  },
  {
   "cell_type": "code",
   "execution_count": 5,
   "id": "5239917e-cb38-4657-9032-e3e90a29cd6a",
   "metadata": {},
   "outputs": [
    {
     "data": {
      "text/plain": [
       "(2434, 812)"
      ]
     },
     "execution_count": 5,
     "metadata": {},
     "output_type": "execute_result"
    }
   ],
   "source": [
    "len(train_b), len(test_b)"
   ]
  },
  {
   "cell_type": "markdown",
   "id": "97cf8ef7-ed35-4dd4-8eb9-240891fdea2c",
   "metadata": {},
   "source": [
    "This really isn't a lot of data to train a neural network with, I think I have to scrap that plan."
   ]
  },
  {
   "cell_type": "code",
   "execution_count": 6,
   "id": "0adde319-62d1-4206-87a9-00a6f46b0423",
   "metadata": {},
   "outputs": [],
   "source": [
    "train_p.to_csv('datasets/train_p_topcols.csv', index=False)\n",
    "test_p.to_csv('datasets/test_p_topcols.csv', index=False)\n",
    "train_b.to_csv('datasets/train_b_topcols.csv', index=False)\n",
    "test_b.to_csv('datasets/test_b_topcols.csv', index=False)"
   ]
  },
  {
   "cell_type": "code",
   "execution_count": 7,
   "id": "b2b01ace-1197-4210-913f-81459b06ca43",
   "metadata": {},
   "outputs": [
    {
     "data": {
      "text/html": [
       "<div>\n",
       "<style scoped>\n",
       "    .dataframe tbody tr th:only-of-type {\n",
       "        vertical-align: middle;\n",
       "    }\n",
       "\n",
       "    .dataframe tbody tr th {\n",
       "        vertical-align: top;\n",
       "    }\n",
       "\n",
       "    .dataframe thead th {\n",
       "        text-align: right;\n",
       "    }\n",
       "</style>\n",
       "<table border=\"1\" class=\"dataframe\">\n",
       "  <thead>\n",
       "    <tr style=\"text-align: right;\">\n",
       "      <th></th>\n",
       "      <th>fgid</th>\n",
       "      <th>year</th>\n",
       "      <th>pay_adj</th>\n",
       "      <th>log_pay_adj</th>\n",
       "      <th>age</th>\n",
       "      <th>p_Age</th>\n",
       "      <th>W</th>\n",
       "      <th>L</th>\n",
       "      <th>p_WAR</th>\n",
       "      <th>ERA</th>\n",
       "      <th>...</th>\n",
       "      <th>Stf+ SL</th>\n",
       "      <th>Loc+ SL</th>\n",
       "      <th>Pit+ SL</th>\n",
       "      <th>Stf+ FC</th>\n",
       "      <th>Loc+ FC</th>\n",
       "      <th>Pit+ FC</th>\n",
       "      <th>Stf+ FS</th>\n",
       "      <th>Stuff+</th>\n",
       "      <th>Location+</th>\n",
       "      <th>Pitching+</th>\n",
       "    </tr>\n",
       "  </thead>\n",
       "  <tbody>\n",
       "    <tr>\n",
       "      <th>0</th>\n",
       "      <td>1943</td>\n",
       "      <td>2016</td>\n",
       "      <td>43486000.0</td>\n",
       "      <td>7.638349</td>\n",
       "      <td>32</td>\n",
       "      <td>31.0</td>\n",
       "      <td>19.0</td>\n",
       "      <td>3.0</td>\n",
       "      <td>5.3</td>\n",
       "      <td>1.66</td>\n",
       "      <td>...</td>\n",
       "      <td>NaN</td>\n",
       "      <td>NaN</td>\n",
       "      <td>NaN</td>\n",
       "      <td>NaN</td>\n",
       "      <td>NaN</td>\n",
       "      <td>NaN</td>\n",
       "      <td>NaN</td>\n",
       "      <td>NaN</td>\n",
       "      <td>NaN</td>\n",
       "      <td>NaN</td>\n",
       "    </tr>\n",
       "    <tr>\n",
       "      <th>1</th>\n",
       "      <td>10197</td>\n",
       "      <td>2016</td>\n",
       "      <td>5563650.0</td>\n",
       "      <td>6.745360</td>\n",
       "      <td>25</td>\n",
       "      <td>24.0</td>\n",
       "      <td>6.0</td>\n",
       "      <td>17.0</td>\n",
       "      <td>3.7</td>\n",
       "      <td>3.02</td>\n",
       "      <td>...</td>\n",
       "      <td>NaN</td>\n",
       "      <td>NaN</td>\n",
       "      <td>NaN</td>\n",
       "      <td>NaN</td>\n",
       "      <td>NaN</td>\n",
       "      <td>NaN</td>\n",
       "      <td>NaN</td>\n",
       "      <td>NaN</td>\n",
       "      <td>NaN</td>\n",
       "      <td>NaN</td>\n",
       "    </tr>\n",
       "    <tr>\n",
       "      <th>2</th>\n",
       "      <td>7146</td>\n",
       "      <td>2016</td>\n",
       "      <td>3453300.0</td>\n",
       "      <td>6.538234</td>\n",
       "      <td>29</td>\n",
       "      <td>28.0</td>\n",
       "      <td>4.0</td>\n",
       "      <td>3.0</td>\n",
       "      <td>0.8</td>\n",
       "      <td>3.86</td>\n",
       "      <td>...</td>\n",
       "      <td>NaN</td>\n",
       "      <td>NaN</td>\n",
       "      <td>NaN</td>\n",
       "      <td>NaN</td>\n",
       "      <td>NaN</td>\n",
       "      <td>NaN</td>\n",
       "      <td>NaN</td>\n",
       "      <td>NaN</td>\n",
       "      <td>NaN</td>\n",
       "      <td>NaN</td>\n",
       "    </tr>\n",
       "    <tr>\n",
       "      <th>3</th>\n",
       "      <td>9323</td>\n",
       "      <td>2016</td>\n",
       "      <td>3229475.0</td>\n",
       "      <td>6.509132</td>\n",
       "      <td>26</td>\n",
       "      <td>25.0</td>\n",
       "      <td>6.0</td>\n",
       "      <td>5.0</td>\n",
       "      <td>1.7</td>\n",
       "      <td>3.60</td>\n",
       "      <td>...</td>\n",
       "      <td>NaN</td>\n",
       "      <td>NaN</td>\n",
       "      <td>NaN</td>\n",
       "      <td>NaN</td>\n",
       "      <td>NaN</td>\n",
       "      <td>NaN</td>\n",
       "      <td>NaN</td>\n",
       "      <td>NaN</td>\n",
       "      <td>NaN</td>\n",
       "      <td>NaN</td>\n",
       "    </tr>\n",
       "    <tr>\n",
       "      <th>4</th>\n",
       "      <td>3862</td>\n",
       "      <td>2016</td>\n",
       "      <td>3005650.0</td>\n",
       "      <td>6.477938</td>\n",
       "      <td>27</td>\n",
       "      <td>26.0</td>\n",
       "      <td>14.0</td>\n",
       "      <td>9.0</td>\n",
       "      <td>0.6</td>\n",
       "      <td>4.67</td>\n",
       "      <td>...</td>\n",
       "      <td>NaN</td>\n",
       "      <td>NaN</td>\n",
       "      <td>NaN</td>\n",
       "      <td>NaN</td>\n",
       "      <td>NaN</td>\n",
       "      <td>NaN</td>\n",
       "      <td>NaN</td>\n",
       "      <td>NaN</td>\n",
       "      <td>NaN</td>\n",
       "      <td>NaN</td>\n",
       "    </tr>\n",
       "  </tbody>\n",
       "</table>\n",
       "<p>5 rows × 201 columns</p>\n",
       "</div>"
      ],
      "text/plain": [
       "    fgid  year     pay_adj  log_pay_adj  age  p_Age     W     L  p_WAR   ERA  \\\n",
       "0   1943  2016  43486000.0     7.638349   32   31.0  19.0   3.0    5.3  1.66   \n",
       "1  10197  2016   5563650.0     6.745360   25   24.0   6.0  17.0    3.7  3.02   \n",
       "2   7146  2016   3453300.0     6.538234   29   28.0   4.0   3.0    0.8  3.86   \n",
       "3   9323  2016   3229475.0     6.509132   26   25.0   6.0   5.0    1.7  3.60   \n",
       "4   3862  2016   3005650.0     6.477938   27   26.0  14.0   9.0    0.6  4.67   \n",
       "\n",
       "   ...  Stf+ SL  Loc+ SL  Pit+ SL  Stf+ FC  Loc+ FC  Pit+ FC  Stf+ FS  Stuff+  \\\n",
       "0  ...      NaN      NaN      NaN      NaN      NaN      NaN      NaN     NaN   \n",
       "1  ...      NaN      NaN      NaN      NaN      NaN      NaN      NaN     NaN   \n",
       "2  ...      NaN      NaN      NaN      NaN      NaN      NaN      NaN     NaN   \n",
       "3  ...      NaN      NaN      NaN      NaN      NaN      NaN      NaN     NaN   \n",
       "4  ...      NaN      NaN      NaN      NaN      NaN      NaN      NaN     NaN   \n",
       "\n",
       "   Location+  Pitching+  \n",
       "0        NaN        NaN  \n",
       "1        NaN        NaN  \n",
       "2        NaN        NaN  \n",
       "3        NaN        NaN  \n",
       "4        NaN        NaN  \n",
       "\n",
       "[5 rows x 201 columns]"
      ]
     },
     "execution_count": 7,
     "metadata": {},
     "output_type": "execute_result"
    }
   ],
   "source": [
    "dp.head()"
   ]
  },
  {
   "cell_type": "markdown",
   "id": "396c1c60-7805-417e-905b-2fd17d352cf0",
   "metadata": {},
   "source": [
    "---\n",
    "# Use all the cols"
   ]
  },
  {
   "cell_type": "code",
   "execution_count": 8,
   "id": "f14a34ad-1673-48d9-8a70-9f7bad09afaf",
   "metadata": {},
   "outputs": [],
   "source": [
    "dp = pd.read_csv('stats_and_pay_pitchers.csv')\n",
    "db = pd.read_csv('stats_and_pay_batters.csv')"
   ]
  },
  {
   "cell_type": "code",
   "execution_count": 9,
   "id": "1efb4358-bcec-4aac-857f-14088f960a06",
   "metadata": {},
   "outputs": [],
   "source": [
    "# do train/test split for each\n",
    "train_p, test_p = train_test_split(dp.copy(), random_state=1234)\n",
    "train_b, test_b = train_test_split(db.copy(), random_state=5676)"
   ]
  },
  {
   "cell_type": "code",
   "execution_count": 10,
   "id": "a8ca3ae0-ac8a-4bac-977c-b1352472c4e6",
   "metadata": {},
   "outputs": [
    {
     "data": {
      "text/plain": [
       "(2659, 887)"
      ]
     },
     "execution_count": 10,
     "metadata": {},
     "output_type": "execute_result"
    }
   ],
   "source": [
    "len(train_p), len(test_p)"
   ]
  },
  {
   "cell_type": "code",
   "execution_count": 11,
   "id": "28ba64c3-3970-4a85-a82b-5ab2143e5c6c",
   "metadata": {},
   "outputs": [
    {
     "data": {
      "text/plain": [
       "(2434, 812)"
      ]
     },
     "execution_count": 11,
     "metadata": {},
     "output_type": "execute_result"
    }
   ],
   "source": [
    "len(train_b), len(test_b)"
   ]
  },
  {
   "cell_type": "markdown",
   "id": "e081b25e-7070-47b7-be1e-49b28f481827",
   "metadata": {},
   "source": [
    "This really isn't a lot of data to train a neural network with, I think I have to scrap that plan."
   ]
  },
  {
   "cell_type": "code",
   "execution_count": 12,
   "id": "043c9848-856e-42b4-bb22-3657389a1cfe",
   "metadata": {},
   "outputs": [],
   "source": [
    "train_p.to_csv('datasets/train_p.csv', index=False)\n",
    "test_p.to_csv('datasets/test_p.csv', index=False)\n",
    "train_b.to_csv('datasets/train_b.csv', index=False)\n",
    "test_b.to_csv('datasets/test_b.csv', index=False)"
   ]
  },
  {
   "cell_type": "markdown",
   "id": "ffbd2428-873c-4acb-a015-3d6ce4bc2c0f",
   "metadata": {},
   "source": [
    "---\n",
    "## PCA"
   ]
  },
  {
   "cell_type": "code",
   "execution_count": 13,
   "id": "15e2f58e-cdc1-4dd8-949c-13dcbfbccaf2",
   "metadata": {},
   "outputs": [
    {
     "data": {
      "text/plain": [
       "(5079, 1693)"
      ]
     },
     "execution_count": 13,
     "metadata": {},
     "output_type": "execute_result"
    }
   ],
   "source": [
    "df_pca = pd.read_csv('stats_and_pay_batters_pca.csv')\n",
    "train_pca, test_pca = train_test_split(df_pca.copy(), random_state=86753090)\n",
    "len(train_pca), len(test_pca)"
   ]
  },
  {
   "cell_type": "code",
   "execution_count": 14,
   "id": "5ec6a8ce-110e-47ac-8257-a0c6d54ca4d3",
   "metadata": {},
   "outputs": [],
   "source": [
    "train_pca.to_csv('datasets/train_pca.csv', index=False)\n",
    "test_pca.to_csv('datasets/test_pca.csv', index=False)"
   ]
  },
  {
   "cell_type": "markdown",
   "id": "3ae3335d-4b21-429f-af5f-044111849a0a",
   "metadata": {},
   "source": [
    "We want to use only the numeric columns"
   ]
  },
  {
   "cell_type": "code",
   "execution_count": null,
   "id": "86d5e584-18ec-4363-939e-420d21f57488",
   "metadata": {},
   "outputs": [],
   "source": [
    "side_cols = ['fgid','year','Season','Season_prev','pay','log_pay','adj','pay_adj','log_pay_adj']\n",
    "\n",
    "columns_mask = np.logical_and.reduce([~np.isin(db.columns,side_cols),\n",
    "                                      np.logical_or(db.dtypes==np.float64, db.dtypes==int)])\n",
    "batting_cols = train.columns[np.isin(train.columns,db.columns[columns_mask])]\n",
    "\n",
    "\n",
    "columns_mask = np.logical_and.reduce([~np.isin(dp.columns,side_cols),\n",
    "                                      np.logical_or(dp.dtypes==np.float64,dp.dtypes==int)])\n",
    "pitching_cols = train.columns[np.isin(train.columns,dp.columns[columns_mask])]"
   ]
  }
 ],
 "metadata": {
  "kernelspec": {
   "display_name": "Python 3 (ipykernel)",
   "language": "python",
   "name": "python3"
  },
  "language_info": {
   "codemirror_mode": {
    "name": "ipython",
    "version": 3
   },
   "file_extension": ".py",
   "mimetype": "text/x-python",
   "name": "python",
   "nbconvert_exporter": "python",
   "pygments_lexer": "ipython3",
   "version": "3.9.13"
  }
 },
 "nbformat": 4,
 "nbformat_minor": 5
}
